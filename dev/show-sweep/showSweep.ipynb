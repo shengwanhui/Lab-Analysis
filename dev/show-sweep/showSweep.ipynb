{
 "cells": [
  {
   "source": [
    "# The purpose of this script is to show the Nth sweep from a list of ABF files"
   ],
   "cell_type": "code",
   "metadata": {},
   "execution_count": null,
   "outputs": []
  },
  {
   "cell_type": "code",
   "execution_count": null,
   "metadata": {},
   "outputs": [],
   "source": [
    "abfsAfterTGOT = [\n",
    "    R\"X:/Data/SD/OXT-Subiculum/AP Dynamics/2021_2_8_DIC3_0016.abf\",\n",
    "    R\"X:/Data/SD/OXT-Subiculum/AP Dynamics/2021_2_8_DIC3_0039.abf\",\n",
    "    R\"X:/Data/SD/OXT-Subiculum/AP Dynamics/2021_2_8_DIC3_0052.abf\",\n",
    "    R\"X:/Data/SD/OXT-Subiculum/AP Dynamics/2021_2_8_DIC3_0063.abf\",\n",
    "    R\"X:/Data/SD/OXT-Subiculum/AP Dynamics/2021_2_8_DIC3_0077.abf\",\n",
    "    R\"X:/Data/SD/OXT-Subiculum/AP Dynamics/2021_2_9_DIC3_0025.abf\",\n",
    "    R\"X:/Data/SD/OXT-Subiculum/AP Dynamics/2021_2_9_DIC3_0038.abf\",\n",
    "    R\"X:/Data/SD/OXT-Subiculum/AP Dynamics/2021_2_9_DIC3_0057.abf\",\n",
    "    R\"X:/Data/SD/OXT-Subiculum/AP Dynamics/2021_2_15_DIC3_0015.abf\",\n",
    "    R\"X:/Data/SD/OXT-Subiculum/AP Dynamics/2021_2_15_DIC3_0027.abf\",\n",
    "    R\"X:/Data/SD/OXT-Subiculum/AP Dynamics/2021_2_15_DIC3_0049.abf\",\n",
    "    R\"X:/Data/C57/practice/Samantha - Rotation/abfs/2021_02_15_DIC2_0026.abf\",\n",
    "    R\"X:/Data/SD/OXT-Subiculum/AP Dynamics/2021_2_25_DIC3_0014.abf\",\n",
    "    R\"X:/Data/SD/OXT-Subiculum/AP Dynamics/2021_2_25_DIC3_0047.abf\",\n",
    "]\n",
    " \n",
    "abfsAfterL368 = [\n",
    "    R\"X:/Data/SD/OXT-Subiculum/AP Dynamics/2021_2_25_DIC3_0029.abf\",\n",
    "    R\"X:/Data/SD/OXT-Subiculum/AP Dynamics/2021_2_25_DIC3_0067.abf\",\n",
    "    R\"X:/Data/SD/OXT-Subiculum/AP Dynamics/2021_2_25_DIC3_0083.abf\",\n",
    "    R\"X:/Data/SD/OXT-Subiculum/AP Dynamics/2021_02_26_DIC1_0026.abf\",\n",
    "    R\"X:/Data/SD/OXT-Subiculum/AP Dynamics/2021_02_26_DIC1_0039.abf\",\n",
    "    R\"X:/Data/SD/OXT-Subiculum/AP Dynamics/2021_2_26_DIC3_0012.abf\",\n",
    "    R\"X:/Data/SD/OXT-Subiculum/AP Dynamics/2021_02_26_DIC1_0058.abf\",\n",
    "    R\"X:/Data/SD/OXT-Subiculum/AP Dynamics/2021_2_26_DIC3_0025.abf\",\n",
    "    R\"X:/Data/SD/OXT-Subiculum/AP Dynamics/2021_02_26_DIC1_0071.abf\",\n",
    "    R\"X:/Data/SD/OXT-Subiculum/AP Dynamics/2021_2_26_DIC3_0039.abf\",\n",
    "]"
   ]
  },
  {
   "cell_type": "code",
   "execution_count": null,
   "metadata": {
    "scrolled": false
   },
   "outputs": [],
   "source": [
    "import pyabf\n",
    "import matplotlib.pyplot as plt\n",
    "\n",
    "def showSweep(abfFilePath, sweepNumber, color):\n",
    "    abf = pyabf.ABF(abfFilePath)\n",
    "    abf.setSweep(sweepNumber)\n",
    "    plt.figure()\n",
    "    plt.plot(abf.sweepX, abf.sweepY, color=color)\n",
    "    plt.title(abf.abfID)\n",
    "    plt.axis([0.4, 1.3, None, None])\n",
    "    plt.show()\n",
    "\n",
    "for line in abfsAfterTGOT:\n",
    "    showSweep(line, 25, 'blue')\n",
    "\n",
    "for line in abfsAfterL368:\n",
    "    showSweep(line, 25, 'orange')"
   ]
  },
  {
   "cell_type": "code",
   "execution_count": null,
   "metadata": {},
   "outputs": [],
   "source": []
  }
 ],
 "metadata": {
  "kernelspec": {
   "display_name": "Python 3",
   "language": "python",
   "name": "python3"
  },
  "language_info": {
   "codemirror_mode": {
    "name": "ipython",
    "version": 3
   },
   "file_extension": ".py",
   "mimetype": "text/x-python",
   "name": "python",
   "nbconvert_exporter": "python",
   "pygments_lexer": "ipython3",
   "version": "3.8.5"
  }
 },
 "nbformat": 4,
 "nbformat_minor": 4
}