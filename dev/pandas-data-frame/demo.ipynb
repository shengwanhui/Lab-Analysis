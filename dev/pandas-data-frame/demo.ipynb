{
 "cells": [
  {
   "cell_type": "markdown",
   "metadata": {},
   "source": [
    "# Pandas Data Frame"
   ]
  },
  {
   "cell_type": "markdown",
   "metadata": {},
   "source": [
    "Let's start by preparing our data as regular lists"
   ]
  },
  {
   "cell_type": "code",
   "execution_count": 1,
   "metadata": {},
   "outputs": [],
   "source": [
    "# prepare fake data as regular lists\n",
    "abfNames = [\"test1.abf\", \"test2.abf\", \"test3.abf\"]\n",
    "baselineCurrents = [5.7, 2.2, 3.6]\n",
    "drugCurrents = [6.8, 9.2, 7.9]\n",
    "deltaCurrents = [1.1, 7.0, 4.3]"
   ]
  },
  {
   "cell_type": "markdown",
   "metadata": {},
   "source": [
    "Now let's load all our data into a pandas _data frame_ which makes it easier to query and display"
   ]
  },
  {
   "cell_type": "code",
   "execution_count": 2,
   "metadata": {},
   "outputs": [],
   "source": [
    "import pandas\n",
    "df = pandas.DataFrame({\n",
    "    \"ABF\": abfNames,\n",
    "    \"Baseline\": baselineCurrents,\n",
    "    \"Drug\": drugCurrents,\n",
    "    \"Difference\": deltaCurrents\n",
    "})"
   ]
  },
  {
   "cell_type": "code",
   "execution_count": 3,
   "metadata": {},
   "outputs": [
    {
     "name": "stdout",
     "output_type": "stream",
     "text": [
      "         ABF  Baseline  Drug  Difference\n",
      "0  test1.abf       5.7   6.8         1.1\n",
      "1  test2.abf       2.2   9.2         7.0\n",
      "2  test3.abf       3.6   7.9         4.3\n"
     ]
    }
   ],
   "source": [
    "# You could print it the traditional way...\n",
    "print(df)"
   ]
  },
  {
   "cell_type": "code",
   "execution_count": 4,
   "metadata": {},
   "outputs": [
    {
     "data": {
      "text/html": [
       "<table border=\"1\" class=\"dataframe\">\n",
       "  <thead>\n",
       "    <tr style=\"text-align: right;\">\n",
       "      <th></th>\n",
       "      <th>ABF</th>\n",
       "      <th>Baseline</th>\n",
       "      <th>Drug</th>\n",
       "      <th>Difference</th>\n",
       "    </tr>\n",
       "  </thead>\n",
       "  <tbody>\n",
       "    <tr>\n",
       "      <th>0</th>\n",
       "      <td>test1.abf</td>\n",
       "      <td>5.7</td>\n",
       "      <td>6.8</td>\n",
       "      <td>1.1</td>\n",
       "    </tr>\n",
       "    <tr>\n",
       "      <th>1</th>\n",
       "      <td>test2.abf</td>\n",
       "      <td>2.2</td>\n",
       "      <td>9.2</td>\n",
       "      <td>7.0</td>\n",
       "    </tr>\n",
       "    <tr>\n",
       "      <th>2</th>\n",
       "      <td>test3.abf</td>\n",
       "      <td>3.6</td>\n",
       "      <td>7.9</td>\n",
       "      <td>4.3</td>\n",
       "    </tr>\n",
       "  </tbody>\n",
       "</table>"
      ],
      "text/plain": [
       "<IPython.core.display.HTML object>"
      ]
     },
     "metadata": {},
     "output_type": "display_data"
    }
   ],
   "source": [
    "# You can also print it as pretty HTML looks good in the browser with Jupyter but not in the console\n",
    "from IPython.display import display, HTML\n",
    "display(HTML(df.to_html()))"
   ]
  },
  {
   "cell_type": "markdown",
   "metadata": {},
   "source": [
    "We can get column means and errors easily this way"
   ]
  },
  {
   "cell_type": "code",
   "execution_count": 5,
   "metadata": {},
   "outputs": [
    {
     "name": "stdout",
     "output_type": "stream",
     "text": [
      "Baseline: 3.833 ± 1.017 n=3\n",
      "Drug: 7.967 ± 0.694 n=3\n",
      "Difference: 4.133 ± 1.705 n=3\n"
     ]
    }
   ],
   "source": [
    "print(\"Baseline:\", round(df[\"Baseline\"].mean(), 3), \"±\", round(df[\"Baseline\"].sem(), 3), f\"n={len(df)}\")\n",
    "print(\"Drug:\", round(df[\"Drug\"].mean(), 3), \"±\", round(df[\"Drug\"].sem(), 3), f\"n={len(df)}\")\n",
    "print(\"Difference:\", round(df[\"Difference\"].mean(), 3), \"±\", round(df[\"Difference\"].sem(), 3), f\"n={len(df)}\")"
   ]
  },
  {
   "cell_type": "code",
   "execution_count": null,
   "metadata": {},
   "outputs": [],
   "source": []
  }
 ],
 "metadata": {
  "kernelspec": {
   "display_name": "Python 3",
   "language": "python",
   "name": "python3"
  },
  "language_info": {
   "codemirror_mode": {
    "name": "ipython",
    "version": 3
   },
   "file_extension": ".py",
   "mimetype": "text/x-python",
   "name": "python",
   "nbconvert_exporter": "python",
   "pygments_lexer": "ipython3",
   "version": "3.7.6"
  }
 },
 "nbformat": 4,
 "nbformat_minor": 4
}
