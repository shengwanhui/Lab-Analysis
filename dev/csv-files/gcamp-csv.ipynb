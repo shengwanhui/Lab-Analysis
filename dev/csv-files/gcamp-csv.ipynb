{
 "metadata": {
  "language_info": {
   "codemirror_mode": {
    "name": "ipython",
    "version": 3
   },
   "file_extension": ".py",
   "mimetype": "text/x-python",
   "name": "python",
   "nbconvert_exporter": "python",
   "pygments_lexer": "ipython3",
   "version": "3.9.2-final"
  },
  "orig_nbformat": 2,
  "kernelspec": {
   "name": "python3",
   "display_name": "Python 3.9.2 64-bit",
   "metadata": {
    "interpreter": {
     "hash": "1791e0827a256e45c70a9df3c34d0471d047e491acd793eacac4c8e1ba540b4f"
    }
   }
  }
 },
 "nbformat": 4,
 "nbformat_minor": 2,
 "cells": [
  {
   "source": [
    "# Read ImageJ CSV/XLS Files with Python"
   ],
   "cell_type": "markdown",
   "metadata": {}
  },
  {
   "source": [
    "import os\n",
    "import numpy as np\n",
    "import pandas as pd\n",
    "import matplotlib.pyplot as plt"
   ],
   "cell_type": "code",
   "metadata": {},
   "execution_count": 1,
   "outputs": []
  },
  {
   "cell_type": "code",
   "execution_count": 2,
   "metadata": {},
   "outputs": [],
   "source": [
    "filePath = \"../../data/025um.xls\""
   ]
  },
  {
   "source": [
    "## Read CSV with Numpy\n",
    "\n",
    "Numpy is simple and returns unlabeled 2D arrays."
   ],
   "cell_type": "markdown",
   "metadata": {}
  },
  {
   "cell_type": "code",
   "execution_count": 3,
   "metadata": {},
   "outputs": [
    {
     "output_type": "execute_result",
     "data": {
      "text/plain": [
       "array([[1.000000e+00, 2.668748e+03, 2.639816e+03, ..., 1.155882e+03,\n",
       "        4.087783e+03, 3.655584e+03],\n",
       "       [2.000000e+00, 2.716716e+03, 2.638727e+03, ..., 1.058000e+03,\n",
       "        4.072258e+03, 3.492112e+03],\n",
       "       [3.000000e+00, 2.859796e+03, 2.598781e+03, ..., 1.057642e+03,\n",
       "        4.048113e+03, 3.404697e+03],\n",
       "       ...,\n",
       "       [7.800000e+01, 6.807492e+03, 2.927428e+03, ..., 5.281280e+02,\n",
       "        1.474402e+03, 2.248135e+03],\n",
       "       [7.900000e+01, 6.711872e+03, 2.863155e+03, ..., 5.351230e+02,\n",
       "        1.511165e+03, 2.151112e+03],\n",
       "       [8.000000e+01, 5.846715e+03, 2.897756e+03, ..., 5.182510e+02,\n",
       "        1.458804e+03, 2.259719e+03]])"
      ]
     },
     "metadata": {},
     "execution_count": 3
    }
   ],
   "source": [
    "np.loadtxt(filePath, skiprows=1, delimiter=\"\\t\")"
   ]
  },
  {
   "source": [
    "## Read CSV with Pandas\n",
    "Pandas is fancier and uses _data frames_ (2D arrays with labeled rows and columns)"
   ],
   "cell_type": "markdown",
   "metadata": {}
  },
  {
   "cell_type": "code",
   "execution_count": 4,
   "metadata": {},
   "outputs": [
    {
     "output_type": "execute_result",
     "data": {
      "text/plain": [
       "    Time  19528021.25um.C1  19528021.25um.C2  19528021.25um.C3  \\\n",
       "0      1          2668.748          2639.816          2985.501   \n",
       "1      2          2716.716          2638.727          2964.856   \n",
       "2      3          2859.796          2598.781          2988.146   \n",
       "3      4          2849.311          2536.017          2955.754   \n",
       "4      5          2844.623          2547.587          2939.385   \n",
       "..   ...               ...               ...               ...   \n",
       "75    76          6664.720          3003.810          3368.096   \n",
       "76    77          6498.990          2968.270          3340.101   \n",
       "77    78          6807.492          2927.428          3478.965   \n",
       "78    79          6711.872          2863.155          3862.032   \n",
       "79    80          5846.715          2897.756          3464.132   \n",
       "\n",
       "    19528021.25um.C4  19528021.25um.C5  19528021.25um.C6  19528021.25um.C7  \\\n",
       "0           2811.421          2008.448          2309.128          2367.821   \n",
       "1           2786.872          2030.417          2351.791          2491.884   \n",
       "2           2856.878          2054.258          2386.428          2556.108   \n",
       "3           2835.997          2087.821          2443.236          2630.541   \n",
       "4           2814.508          2033.328          2464.550          2676.358   \n",
       "..               ...               ...               ...               ...   \n",
       "75          2987.345          2573.601          3359.966          4109.158   \n",
       "76          2932.744          2541.412          3383.010          4132.662   \n",
       "77          2867.070          2493.349          3352.608          4135.531   \n",
       "78          2786.421          2484.422          3324.538          4096.709   \n",
       "79          2755.605          2457.818          3340.806          4072.530   \n",
       "\n",
       "    19528021.25um.C8  19528021.25um.C9  ...  20214022.25um.C53  \\\n",
       "0           3747.249          4129.493  ...           1758.643   \n",
       "1           3756.399          4037.815  ...           1679.411   \n",
       "2           3813.130          4115.574  ...           1619.147   \n",
       "3           3830.953          3994.907  ...           1610.225   \n",
       "4           3803.693          3956.227  ...           1568.357   \n",
       "..               ...               ...  ...                ...   \n",
       "75          3881.060          3227.044  ...            918.279   \n",
       "76          3843.621          3239.021  ...            970.132   \n",
       "77          3855.365          3235.743  ...            956.116   \n",
       "78          3822.957          3241.979  ...            958.519   \n",
       "79          3845.304          3260.322  ...            961.085   \n",
       "\n",
       "    20214022.25um.C54  20214022.25um.C55  20214022.25um.C56  \\\n",
       "0            1602.221           1239.493           1131.603   \n",
       "1            1742.097           1176.793           1129.310   \n",
       "2            1515.053           1154.757           1131.052   \n",
       "3            1436.841           1150.414           1122.868   \n",
       "4            1555.858           1424.471           1024.724   \n",
       "..                ...                ...                ...   \n",
       "75            573.212            631.386            579.546   \n",
       "76            549.664            642.279            573.213   \n",
       "77            731.575            654.707            568.092   \n",
       "78            622.814            634.257            604.534   \n",
       "79            582.434            963.021            556.828   \n",
       "\n",
       "    20214022.25um.C57  20214022.25um.C58  20214022.25um.C59  \\\n",
       "0            1606.959           1406.424           2394.172   \n",
       "1            1333.528           1333.190           2338.268   \n",
       "2            1420.756           1309.886           2284.656   \n",
       "3            1419.122           1204.405           2142.955   \n",
       "4            1324.146           1212.323           2177.522   \n",
       "..                ...                ...                ...   \n",
       "75            863.781            808.171           1015.057   \n",
       "76            796.951            772.380           1073.624   \n",
       "77            770.073            820.424           1029.510   \n",
       "78            854.789            780.057           1079.694   \n",
       "79            833.789            720.696           1009.299   \n",
       "\n",
       "    20214022.25um.C60  20214022.25um.C61  20214022.25um.C62  \n",
       "0            1155.882           4087.783           3655.584  \n",
       "1            1058.000           4072.258           3492.112  \n",
       "2            1057.642           4048.113           3404.697  \n",
       "3            1005.011           3935.443           3426.674  \n",
       "4             981.914           3641.227           3326.595  \n",
       "..                ...                ...                ...  \n",
       "75            557.840           1570.402           2244.775  \n",
       "76            537.160           1401.402           2254.663  \n",
       "77            528.128           1474.402           2248.135  \n",
       "78            535.123           1511.165           2151.112  \n",
       "79            518.251           1458.804           2259.719  \n",
       "\n",
       "[80 rows x 63 columns]"
      ],
      "text/html": "<div>\n<style scoped>\n    .dataframe tbody tr th:only-of-type {\n        vertical-align: middle;\n    }\n\n    .dataframe tbody tr th {\n        vertical-align: top;\n    }\n\n    .dataframe thead th {\n        text-align: right;\n    }\n</style>\n<table border=\"1\" class=\"dataframe\">\n  <thead>\n    <tr style=\"text-align: right;\">\n      <th></th>\n      <th>Time</th>\n      <th>19528021.25um.C1</th>\n      <th>19528021.25um.C2</th>\n      <th>19528021.25um.C3</th>\n      <th>19528021.25um.C4</th>\n      <th>19528021.25um.C5</th>\n      <th>19528021.25um.C6</th>\n      <th>19528021.25um.C7</th>\n      <th>19528021.25um.C8</th>\n      <th>19528021.25um.C9</th>\n      <th>...</th>\n      <th>20214022.25um.C53</th>\n      <th>20214022.25um.C54</th>\n      <th>20214022.25um.C55</th>\n      <th>20214022.25um.C56</th>\n      <th>20214022.25um.C57</th>\n      <th>20214022.25um.C58</th>\n      <th>20214022.25um.C59</th>\n      <th>20214022.25um.C60</th>\n      <th>20214022.25um.C61</th>\n      <th>20214022.25um.C62</th>\n    </tr>\n  </thead>\n  <tbody>\n    <tr>\n      <th>0</th>\n      <td>1</td>\n      <td>2668.748</td>\n      <td>2639.816</td>\n      <td>2985.501</td>\n      <td>2811.421</td>\n      <td>2008.448</td>\n      <td>2309.128</td>\n      <td>2367.821</td>\n      <td>3747.249</td>\n      <td>4129.493</td>\n      <td>...</td>\n      <td>1758.643</td>\n      <td>1602.221</td>\n      <td>1239.493</td>\n      <td>1131.603</td>\n      <td>1606.959</td>\n      <td>1406.424</td>\n      <td>2394.172</td>\n      <td>1155.882</td>\n      <td>4087.783</td>\n      <td>3655.584</td>\n    </tr>\n    <tr>\n      <th>1</th>\n      <td>2</td>\n      <td>2716.716</td>\n      <td>2638.727</td>\n      <td>2964.856</td>\n      <td>2786.872</td>\n      <td>2030.417</td>\n      <td>2351.791</td>\n      <td>2491.884</td>\n      <td>3756.399</td>\n      <td>4037.815</td>\n      <td>...</td>\n      <td>1679.411</td>\n      <td>1742.097</td>\n      <td>1176.793</td>\n      <td>1129.310</td>\n      <td>1333.528</td>\n      <td>1333.190</td>\n      <td>2338.268</td>\n      <td>1058.000</td>\n      <td>4072.258</td>\n      <td>3492.112</td>\n    </tr>\n    <tr>\n      <th>2</th>\n      <td>3</td>\n      <td>2859.796</td>\n      <td>2598.781</td>\n      <td>2988.146</td>\n      <td>2856.878</td>\n      <td>2054.258</td>\n      <td>2386.428</td>\n      <td>2556.108</td>\n      <td>3813.130</td>\n      <td>4115.574</td>\n      <td>...</td>\n      <td>1619.147</td>\n      <td>1515.053</td>\n      <td>1154.757</td>\n      <td>1131.052</td>\n      <td>1420.756</td>\n      <td>1309.886</td>\n      <td>2284.656</td>\n      <td>1057.642</td>\n      <td>4048.113</td>\n      <td>3404.697</td>\n    </tr>\n    <tr>\n      <th>3</th>\n      <td>4</td>\n      <td>2849.311</td>\n      <td>2536.017</td>\n      <td>2955.754</td>\n      <td>2835.997</td>\n      <td>2087.821</td>\n      <td>2443.236</td>\n      <td>2630.541</td>\n      <td>3830.953</td>\n      <td>3994.907</td>\n      <td>...</td>\n      <td>1610.225</td>\n      <td>1436.841</td>\n      <td>1150.414</td>\n      <td>1122.868</td>\n      <td>1419.122</td>\n      <td>1204.405</td>\n      <td>2142.955</td>\n      <td>1005.011</td>\n      <td>3935.443</td>\n      <td>3426.674</td>\n    </tr>\n    <tr>\n      <th>4</th>\n      <td>5</td>\n      <td>2844.623</td>\n      <td>2547.587</td>\n      <td>2939.385</td>\n      <td>2814.508</td>\n      <td>2033.328</td>\n      <td>2464.550</td>\n      <td>2676.358</td>\n      <td>3803.693</td>\n      <td>3956.227</td>\n      <td>...</td>\n      <td>1568.357</td>\n      <td>1555.858</td>\n      <td>1424.471</td>\n      <td>1024.724</td>\n      <td>1324.146</td>\n      <td>1212.323</td>\n      <td>2177.522</td>\n      <td>981.914</td>\n      <td>3641.227</td>\n      <td>3326.595</td>\n    </tr>\n    <tr>\n      <th>...</th>\n      <td>...</td>\n      <td>...</td>\n      <td>...</td>\n      <td>...</td>\n      <td>...</td>\n      <td>...</td>\n      <td>...</td>\n      <td>...</td>\n      <td>...</td>\n      <td>...</td>\n      <td>...</td>\n      <td>...</td>\n      <td>...</td>\n      <td>...</td>\n      <td>...</td>\n      <td>...</td>\n      <td>...</td>\n      <td>...</td>\n      <td>...</td>\n      <td>...</td>\n      <td>...</td>\n    </tr>\n    <tr>\n      <th>75</th>\n      <td>76</td>\n      <td>6664.720</td>\n      <td>3003.810</td>\n      <td>3368.096</td>\n      <td>2987.345</td>\n      <td>2573.601</td>\n      <td>3359.966</td>\n      <td>4109.158</td>\n      <td>3881.060</td>\n      <td>3227.044</td>\n      <td>...</td>\n      <td>918.279</td>\n      <td>573.212</td>\n      <td>631.386</td>\n      <td>579.546</td>\n      <td>863.781</td>\n      <td>808.171</td>\n      <td>1015.057</td>\n      <td>557.840</td>\n      <td>1570.402</td>\n      <td>2244.775</td>\n    </tr>\n    <tr>\n      <th>76</th>\n      <td>77</td>\n      <td>6498.990</td>\n      <td>2968.270</td>\n      <td>3340.101</td>\n      <td>2932.744</td>\n      <td>2541.412</td>\n      <td>3383.010</td>\n      <td>4132.662</td>\n      <td>3843.621</td>\n      <td>3239.021</td>\n      <td>...</td>\n      <td>970.132</td>\n      <td>549.664</td>\n      <td>642.279</td>\n      <td>573.213</td>\n      <td>796.951</td>\n      <td>772.380</td>\n      <td>1073.624</td>\n      <td>537.160</td>\n      <td>1401.402</td>\n      <td>2254.663</td>\n    </tr>\n    <tr>\n      <th>77</th>\n      <td>78</td>\n      <td>6807.492</td>\n      <td>2927.428</td>\n      <td>3478.965</td>\n      <td>2867.070</td>\n      <td>2493.349</td>\n      <td>3352.608</td>\n      <td>4135.531</td>\n      <td>3855.365</td>\n      <td>3235.743</td>\n      <td>...</td>\n      <td>956.116</td>\n      <td>731.575</td>\n      <td>654.707</td>\n      <td>568.092</td>\n      <td>770.073</td>\n      <td>820.424</td>\n      <td>1029.510</td>\n      <td>528.128</td>\n      <td>1474.402</td>\n      <td>2248.135</td>\n    </tr>\n    <tr>\n      <th>78</th>\n      <td>79</td>\n      <td>6711.872</td>\n      <td>2863.155</td>\n      <td>3862.032</td>\n      <td>2786.421</td>\n      <td>2484.422</td>\n      <td>3324.538</td>\n      <td>4096.709</td>\n      <td>3822.957</td>\n      <td>3241.979</td>\n      <td>...</td>\n      <td>958.519</td>\n      <td>622.814</td>\n      <td>634.257</td>\n      <td>604.534</td>\n      <td>854.789</td>\n      <td>780.057</td>\n      <td>1079.694</td>\n      <td>535.123</td>\n      <td>1511.165</td>\n      <td>2151.112</td>\n    </tr>\n    <tr>\n      <th>79</th>\n      <td>80</td>\n      <td>5846.715</td>\n      <td>2897.756</td>\n      <td>3464.132</td>\n      <td>2755.605</td>\n      <td>2457.818</td>\n      <td>3340.806</td>\n      <td>4072.530</td>\n      <td>3845.304</td>\n      <td>3260.322</td>\n      <td>...</td>\n      <td>961.085</td>\n      <td>582.434</td>\n      <td>963.021</td>\n      <td>556.828</td>\n      <td>833.789</td>\n      <td>720.696</td>\n      <td>1009.299</td>\n      <td>518.251</td>\n      <td>1458.804</td>\n      <td>2259.719</td>\n    </tr>\n  </tbody>\n</table>\n<p>80 rows × 63 columns</p>\n</div>"
     },
     "metadata": {},
     "execution_count": 4
    }
   ],
   "source": [
    "pd.read_csv(filePath, delimiter=\"\\t\")"
   ]
  },
  {
   "cell_type": "code",
   "execution_count": null,
   "metadata": {},
   "outputs": [],
   "source": [
    "df = pd.read_csv(filePath, delimiter=\"\\t\")\n",
    "\n",
    "# Correct times and convert units to minutes\n",
    "framePeriodSeconds = 5.0\n",
    "framesPerMinute = 60 / framePeriodSeconds\n",
    "times = df['Time'].values / framesPerMinute\n",
    "\n",
    "roiNames = df.columns[1:] # the first column is Time\n",
    "for roiName in roiNames:\n",
    "    plt.figure()\n",
    "    afu = df[roiName].values\n",
    "    plt.plot(times, afu, '.-')\n",
    "    plt.title(roiName)\n",
    "    plt.xlabel(\"Time (minutes)\")\n",
    "    plt.ylabel(\"AFU\")\n",
    "    plt.show()\n",
    "    plt.close()"
   ]
  }
 ]
}