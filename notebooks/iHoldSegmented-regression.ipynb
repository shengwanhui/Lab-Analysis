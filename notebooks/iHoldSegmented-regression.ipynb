{
 "cells": [
  {
   "cell_type": "markdown",
   "metadata": {},
   "source": [
    "### Load ABF Files"
   ]
  },
  {
   "cell_type": "code",
   "execution_count": null,
   "metadata": {},
   "outputs": [],
   "source": [
    "import pyabf\n",
    "import slopeTools\n",
    "import abfTools\n",
    "import plotTools\n",
    "import statsTools\n",
    "import numpy as np\n",
    "import matplotlib.pyplot as plt\n",
    "\n",
    "abfFilePaths = [\n",
    "    R\"X:/Data/C57/TGOT on PVT/2020-07-28 10nM TGOT on PVT/20804007.abf\",\n",
    "    R\"X:/Data/C57/TGOT on PVT/2020-07-28 10nM TGOT on PVT/20804024.abf\", \n",
    "    R\"X:/Data/C57/TGOT on PVT/2020-07-28 10nM TGOT on PVT/20804030.abf\", \n",
    "    R\"X:/Data/C57/TGOT on PVT/2020-07-28 10nM TGOT on PVT/20804043.abf\",\n",
    "    R\"X:/Data/C57/TGOT on PVT/2020-07-28 10nM TGOT on PVT/20804048.abf\",\n",
    "    R\"X:/Data/C57/TGOT on PVT/2020-07-28 10nM TGOT on PVT/20804060.abf\", \n",
    "    R\"X:/Data/C57/TGOT on PVT/2020-07-28 10nM TGOT on PVT/20804066.abf\",\n",
    "    R\"X:/Data/C57/TGOT on PVT/2020-07-28 10nM TGOT on PVT/20805008.abf\",\n",
    "    R\"X:/Data/C57/TGOT on PVT/2020-07-28 10nM TGOT on PVT/20805029.abf\",\n",
    "    R\"X:/Data/C57/TGOT on PVT/2020-07-28 10nM TGOT on PVT/20805035.abf\",\n",
    "    R\"X:/Data/C57/TGOT on PVT/2020-07-28 10nM TGOT on PVT/20811011.abf\",\n",
    "    R\"X:/Data/C57/TGOT on PVT/2020-07-28 10nM TGOT on PVT/20811021.abf\",\n",
    "    R\"X:/Data/C57/TGOT on PVT/2020-07-28 10nM TGOT on PVT/20817012.abf\",\n",
    "    R\"X:/Data/C57/TGOT on PVT/2020-07-28 10nM TGOT on PVT/20831011.abf\",\n",
    "    R\"X:/Data/C57/TGOT on PVT/2020-07-28 10nM TGOT on PVT/20831017.abf\"\n",
    "]\n"
   ]
  },
  {
   "cell_type": "markdown",
   "metadata": {},
   "source": [
    "### Get Holding Current and Break Data into Segments"
   ]
  },
  {
   "cell_type": "code",
   "execution_count": null,
   "metadata": {
    "scrolled": true
   },
   "outputs": [],
   "source": [
    "sweepPeriod = 10/60\n",
    "windowSize = 15\n",
    "slopesBaseline =[]\n",
    "slopesDrug =[]\n",
    "currentsBaseline = []\n",
    "currentsDrug = []\n",
    "abfIDs = []\n",
    "\n",
    "for abfFilePath in abfFilePaths:\n",
    "    # get the tag-aligned raw data of holding current and time\n",
    "    currentsRaw, timesRaw, abfID = abfTools.meanIhold(abfFilePath)\n",
    "    abfIDs.append(abfID)\n",
    "    \n",
    "    # Get the mean current during baseline and drug application\n",
    "    currentsBaseline.append(statsTools.rangeMean(currentsRaw, timesRaw, 3, 5))\n",
    "    currentsDrug.append(statsTools.rangeMean(currentsRaw, timesRaw, 6, 10))\n",
    "    \n",
    "    # get slopes of each segments\n",
    "    currentsSegs = statsTools.getMovingWindowSegments(currentsRaw, windowSize)\n",
    "    slopes = slopeTools.getAllSegmentSlopes(currentsSegs, sweepPeriod)\n",
    "    tagTime = abfTools.getFirstTagTime(abfFilePath)\n",
    "    slopeTimeOffset = windowSize * sweepPeriod / 2-(tagTime-5)\n",
    "    timesSegs = np.arange(len(slopes))*sweepPeriod + slopeTimeOffset\n",
    "\n",
    "    # rave function\n",
    "    slopeBaseline = statsTools.rangeMean(slopes,timesSegs,3,5) # the mean slope between 3-5min was used as the baseline slope\n",
    "    slopeDrug = statsTools.rangeMin(slopes,timesSegs,5,10) # the minimal slope between 5-10min was used as the drug slope\n",
    "    slopesBaseline.append(slopeBaseline)\n",
    "    slopesDrug.append(slopeDrug)\n",
    "\n",
    "    # find the time point when the minimal slope happens\n",
    "    indexslopeDrug = slopes.index(slopeDrug)\n",
    "    peakSlopeTime = timesSegs[indexslopeDrug]\n",
    "    #print(f\"the maximal negative slope is {slopeDrug} at {peakSlopeTime} min (index {indexslopeDrug})\")\n",
    "\n",
    "    # plot current & slope vs time\n",
    "    plt.figure()\n",
    "    ax1 = plt.subplot(211)\n",
    "    plotTools.plotCurrentOverTimeAndLabelPeakSlope(currentsRaw, timesRaw, peakSlopeTime, windowSize)\n",
    "    plt.title(abfID)\n",
    "\n",
    "    ax2 = plt.subplot(212, sharex=ax1)\n",
    "    plotTools.plotSlopesOverTimeAndMarkpeakSlope(slopes, timesSegs, peakSlopeTime, slopeDrug)\n",
    "    \n",
    "    plt.show()\n",
    "\n",
    "\n"
   ]
  },
  {
   "cell_type": "markdown",
   "metadata": {},
   "source": [
    "### Plot slopes before and during drug application"
   ]
  },
  {
   "cell_type": "code",
   "execution_count": null,
   "metadata": {},
   "outputs": [],
   "source": [
    "plotTools.plotPairs(slopesBaseline, slopesDrug, \"Slopes\")\n",
    "plotTools.plotPairs(currentsBaseline, currentsDrug, \"Currents\")"
   ]
  },
  {
   "cell_type": "markdown",
   "metadata": {},
   "source": [
    "### Report responders and non-responders based on the change of slope\n",
    "1. Change of slope is larger than the defined threshold.\n",
    "2. The delta holding current during drug application period is less than 0."
   ]
  },
  {
   "cell_type": "code",
   "execution_count": null,
   "metadata": {},
   "outputs": [],
   "source": [
    "slopeThreshold = -1.5 # peak negative slope must exceed this value to be a responder\n",
    "# create lists of responders and non-responders\n",
    "responders=[]\n",
    "nonResponders=[]\n",
    "for i in range(len(abfIDs)):\n",
    "    abfID = abfIDs[i]\n",
    "    drugEffectSlope = slopesDrug[i] - slopesBaseline[i]\n",
    "    cellHasSteepNegativeSlope = drugEffectSlope <= slopeThreshold\n",
    "    cellGoesNegativeOverTime = currentsDrug[i]-currentsBaseline[i] < 0\n",
    "    if cellHasSteepNegativeSlope and cellGoesNegativeOverTime:\n",
    "        responders.append(abfID)\n",
    "    else:\n",
    "        nonResponders.append(abfID)\n",
    "\n",
    "responseRate = round(len(responders)/len(abfIDs)*100, 3)\n",
    "print(f\"Responders = {len(responders)}\")\n",
    "print(f\"Non-Responders = {len(nonResponders)}\")\n",
    "print(f\"Response rate = {responseRate}%\")"
   ]
  },
  {
   "cell_type": "code",
   "execution_count": null,
   "metadata": {},
   "outputs": [],
   "source": [
    "print(\"Responders: \" + \", \".join(responders))\n",
    "print(\"Non-Responders: \" + \", \".join(nonResponders))"
   ]
  },
  {
   "cell_type": "code",
   "execution_count": null,
   "metadata": {},
   "outputs": [],
   "source": []
  }
 ],
 "metadata": {
  "kernelspec": {
   "display_name": "Python 3",
   "language": "python",
   "name": "python3"
  },
  "language_info": {
   "codemirror_mode": {
    "name": "ipython",
    "version": 3
   },
   "file_extension": ".py",
   "mimetype": "text/x-python",
   "name": "python",
   "nbconvert_exporter": "python",
   "pygments_lexer": "ipython3",
   "version": "3.8.5"
  }
 },
 "nbformat": 4,
 "nbformat_minor": 4
}
