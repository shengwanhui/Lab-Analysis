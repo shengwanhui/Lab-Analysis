{
 "cells": [
  {
   "cell_type": "markdown",
   "metadata": {},
   "source": [
    "# Slope Analysis\n",
    "\n",
    "This project use the change of holding current slope to identify drug responders."
   ]
  },
  {
   "cell_type": "markdown",
   "metadata": {},
   "source": [
    "## Analysis Steps\n",
    "\n",
    "The `getBaselineAndMaxDrugSlope` function smoothes the raw data by the moving window decided by `filterSize`, and analyzes the smoothed holding current in an ABF and returns baseline slope and drug slope.\n",
    "\n",
    "The _slope of baseline_ is calculated as the linear regreasion slope during the 3 minutes period before drug onset.\n",
    "\n",
    "In addition, the smoothed data are separated into segments which n = regressionSize data points are included. The linear regression slope is then calculated for each segment. \n",
    "\n",
    "The _peak slope of drug_ is the most negative slope during the chosen drug period (1-5 minutes after drug onset, in this case)."
   ]
  },
  {
   "cell_type": "markdown",
   "metadata": {},
   "source": [
    "## Set-Up the Environment"
   ]
  },
  {
   "cell_type": "code",
   "execution_count": null,
   "metadata": {},
   "outputs": [],
   "source": [
    "%load_ext autoreload\n",
    "import sys\n",
    "sys.path.append(\"../src\")\n",
    "from os.path import basename\n",
    "import slopeTools\n",
    "import plotTools\n",
    "import statsTools\n",
    "import matplotlib.pyplot as plt"
   ]
  },
  {
   "cell_type": "markdown",
   "metadata": {},
   "source": [
    "## Define ABF Files and Filter Settings\n",
    "\n",
    "The user can list the ABF files they want to analyze"
   ]
  },
  {
   "cell_type": "code",
   "execution_count": null,
   "metadata": {},
   "outputs": [],
   "source": [
    "abfFilePaths = [\n",
    "    R\"X:/Data/C57/TGOT on PVT/2020-07-28 10nM TGOT on PVT/20804007.abf\",\n",
    "    R\"X:/Data/C57/TGOT on PVT/2020-07-28 10nM TGOT on PVT/20804030.abf\", \n",
    "    R\"X:/Data/C57/TGOT on PVT/2020-07-28 10nM TGOT on PVT/20804043.abf\",\n",
    "    R\"X:/Data/C57/TGOT on PVT/2020-07-28 10nM TGOT on PVT/20804048.abf\",\n",
    "    R\"X:/Data/C57/TGOT on PVT/2020-07-28 10nM TGOT on PVT/20804060.abf\",\n",
    "    R\"X:/Data/C57/TGOT on PVT/2020-07-28 10nM TGOT on PVT/20804066.abf\",\n",
    "    R\"X:/Data/C57/TGOT on PVT/2020-07-28 10nM TGOT on PVT/20805008.abf\",\n",
    "    R\"X:/Data/C57/TGOT on PVT/2020-07-28 10nM TGOT on PVT/20805029.abf\",\n",
    "    R\"X:/Data/C57/TGOT on PVT/2020-07-28 10nM TGOT on PVT/20805035.abf\",\n",
    "    R\"X:/Data/C57/TGOT on PVT/2020-07-28 10nM TGOT on PVT/20811011.abf\",\n",
    "    R\"X:/Data/C57/TGOT on PVT/2020-07-28 10nM TGOT on PVT/20811021.abf\",\n",
    "    R\"X:/Data/C57/TGOT on PVT/2020-07-28 10nM TGOT on PVT/20817012.abf\",\n",
    "    R\"X:/Data/C57/TGOT on PVT/2020-07-28 10nM TGOT on PVT/20831011.abf\",\n",
    "    R\"X:/Data/C57/TGOT on PVT/2020-07-28 10nM TGOT on PVT/20831017.abf\"\n",
    "]"
   ]
  },
  {
   "cell_type": "markdown",
   "metadata": {},
   "source": [
    "The users can decide the parameters they want for data analysis. \n",
    "\n",
    "`filterSize` decides number of points (sweeps) for the moving window average. \n",
    "\n",
    "`regressionSize` decides the number of smoothed data points used to calculate linear regression slopes during the drug range."
   ]
  },
  {
   "cell_type": "code",
   "execution_count": null,
   "metadata": {},
   "outputs": [],
   "source": [
    "filterSize = 15\n",
    "regressionSize = 15"
   ]
  },
  {
   "cell_type": "markdown",
   "metadata": {},
   "source": [
    "## Analyze All ABFs"
   ]
  },
  {
   "cell_type": "code",
   "execution_count": null,
   "metadata": {
    "scrolled": true
   },
   "outputs": [],
   "source": [
    "baselineSlopes = []\n",
    "drugSlopes = []\n",
    "abfIDs = []\n",
    "for abfFilePath in abfFilePaths:\n",
    "    baselineSlope, drugSlope = slopeTools.getBaselineAndMaxDrugSlope(abfFilePath, filterSize, regressionSize)\n",
    "    baselineSlopes.append(baselineSlope)\n",
    "    drugSlopes.append(drugSlope)\n",
    "    abfIDs.append(basename(abfFilePath))"
   ]
  },
  {
   "cell_type": "markdown",
   "metadata": {},
   "source": [
    "## Compare Baseline vs. Drug Slopes"
   ]
  },
  {
   "cell_type": "markdown",
   "metadata": {},
   "source": [
    "The users can plot the basleine slope and the peak drug slope of each cell, and report the p-value in the title by performing a paired t-test between baseline slopes and peak drug slopes."
   ]
  },
  {
   "cell_type": "code",
   "execution_count": null,
   "metadata": {},
   "outputs": [],
   "source": [
    "plotTools.plotPairs(baselineSlopes, drugSlopes, \"slopes\")"
   ]
  },
  {
   "cell_type": "markdown",
   "metadata": {},
   "source": [
    "## Assess Responsiveness of All Cells"
   ]
  },
  {
   "cell_type": "markdown",
   "metadata": {},
   "source": [
    "Generate a scatter plot showing the slope difference of each cell."
   ]
  },
  {
   "cell_type": "code",
   "execution_count": null,
   "metadata": {},
   "outputs": [],
   "source": [
    "slopeThreshold = -1.5 \n",
    "drugEffects = []\n",
    "for i in range(len(abfIDs)):\n",
    "    drugEffects.append(drugSlopes[i] - baselineSlopes[i])\n",
    "\n",
    "plt.figure (figsize=(6, 4))\n",
    "plt.ylabel(\"Slope Difference (pA/min)\")\n",
    "plt.plot(abfIDs, drugEffects, 'o', color = \"b\")\n",
    "plt.xticks(rotation = 45)\n",
    "plt.axhline(slopeThreshold, color='r', ls='--')\n",
    "plt.show()"
   ]
  },
  {
   "cell_type": "markdown",
   "metadata": {},
   "source": [
    "## Define Cells as Responsive vs. Non-Responsive"
   ]
  },
  {
   "cell_type": "markdown",
   "metadata": {},
   "source": [
    "The users can define the <b>slopeThreshold</b>. The difference between baseline slope and peak drug slope must be more negative than this value to be a responder\n",
    "slopeThreshold"
   ]
  },
  {
   "cell_type": "code",
   "execution_count": null,
   "metadata": {},
   "outputs": [],
   "source": [
    "drugEffects=statsTools.responderByDelta(abfIDs, drugEffects, slopeThreshold)"
   ]
  }
 ],
 "metadata": {
  "kernelspec": {
   "display_name": "Python 3",
   "language": "python",
   "name": "python3"
  },
  "language_info": {
   "codemirror_mode": {
    "name": "ipython",
    "version": 3
   },
   "file_extension": ".py",
   "mimetype": "text/x-python",
   "name": "python",
   "nbconvert_exporter": "python",
   "pygments_lexer": "ipython3",
   "version": "3.8.5"
  }
 },
 "nbformat": 4,
 "nbformat_minor": 4
}
