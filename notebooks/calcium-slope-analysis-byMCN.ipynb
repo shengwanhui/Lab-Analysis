{
 "cells": [
  {
   "cell_type": "markdown",
   "metadata": {},
   "source": [
    "# Slope Analysis\n",
    "\n",
    "This project is used to segregate cells to the parent groups. This script is designed as a follow-up step after calcium-slope-analysis-bySubGroups."
   ]
  },
  {
   "cell_type": "markdown",
   "metadata": {},
   "source": [
    "## Set-Up the Environment"
   ]
  },
  {
   "cell_type": "code",
   "execution_count": null,
   "metadata": {},
   "outputs": [],
   "source": [
    "%load_ext autoreload\n",
    "import sys\n",
    "sys.path.append(\"../src\")\n",
    "import os\n",
    "import glob\n",
    "import slopeTools\n",
    "import plotTools\n",
    "import statsTools\n",
    "import matplotlib.pyplot as plt\n",
    "import numpy as np\n",
    "import pandas as pd\n",
    "import scipy.stats\n",
    "from scipy.optimize import curve_fit"
   ]
  },
  {
   "cell_type": "markdown",
   "metadata": {},
   "source": [
    "# Pandas DataFrame as a Database\n"
   ]
  },
  {
   "cell_type": "code",
   "execution_count": null,
   "metadata": {},
   "outputs": [],
   "source": [
    "analyzed = pd.read_csv(\"AllSniffer.csv\")\n",
    "analyzed"
   ]
  },
  {
   "cell_type": "code",
   "execution_count": null,
   "metadata": {},
   "outputs": [],
   "source": [
    "filterSize = 5\n",
    "regressionSize = 10\n",
    "baselineStartIndex = 20\n",
    "treatmentStartIndex = 30\n",
    "experimentPeriod = 5/60 #min\n",
    "\n",
    "length = [len(x) for x in analyzed[\"Raw dF/F (%)\"].values]\n",
    "maxLength = max(length)\n",
    "time = np.arange(maxLength)*experimentPeriod \n",
    "smoothTimes = statsTools.smoothY(time, filterSize)\n"
   ]
  },
  {
   "cell_type": "markdown",
   "metadata": {},
   "source": [
    "# Report response rate by groups and parent cells"
   ]
  },
  {
   "cell_type": "code",
   "execution_count": null,
   "metadata": {},
   "outputs": [],
   "source": [
    "def identifyResponders(df, cell, distance, group, slopeDifferenceThreshold):\n",
    "    \"\"\"\n",
    "    Given a dataframe, group, and distance, return just the cells that change\n",
    "    more than the given threshold.\n",
    "    \"\"\"\n",
    "    matching = df.loc[df['Group'] == group]\n",
    "    matching = matching.loc[matching['Distance'] == distance]\n",
    "    matching = matching.loc[matching['MCN'] == cell]\n",
    "    totalCellCount = len(matching)\n",
    "    matching = matching.loc[matching['SlopeDifference (%)'] > slopeDifferenceThreshold] \n",
    "    matching = matching.loc[matching['Treatment Slop (%)'] > 5]\n",
    "    responderCount = len(matching)\n",
    "    return matching, totalCellCount, responderCount\n",
    "    \n",
    "groups = [\"KGlu\", \"CsGlu\", \"L368\"]\n",
    "distances = [25, 50, 75, 100, 125]\n",
    "MCNs = []\n",
    "for MCN in analyzed[\"MCN\"]:\n",
    "    if MCN in MCNs:\n",
    "        continue\n",
    "    else:\n",
    "        MCNs.append(MCN)\n",
    "\n",
    "threshold = 12\n",
    "database = pd.DataFrame(columns = ['Groups','MCN','25µm', '50µm','75µm','100µm', '125µm'])\n",
    "\n",
    "for group in groups:\n",
    "    for mcn in MCNs:\n",
    "        responseByDistance = []\n",
    "        for distance in distances:\n",
    "            matching, totalCellCount, responderCount = identifyResponders(analyzed, mcn, distance, group, threshold)\n",
    "            if totalCellCount == 0:\n",
    "                responseRate =\"NA\"\n",
    "            else:\n",
    "                responseRate = responderCount*100/totalCellCount\n",
    "            responseByDistance.append(responseRate)\n",
    "        row = {'Groups':group, 'MCN': mcn, '25µm':responseByDistance[0], '50µm':responseByDistance[1], '75µm':responseByDistance[2],'100µm':responseByDistance[3],'125µm': responseByDistance[4]}\n",
    "        database = database.append(row,ignore_index = True)\n",
    "display(database)\n",
    "database.to_csv('AllSniffer_byMCN.csv')"
   ]
  },
  {
   "cell_type": "code",
   "execution_count": null,
   "metadata": {},
   "outputs": [],
   "source": []
  },
  {
   "cell_type": "code",
   "execution_count": null,
   "metadata": {},
   "outputs": [],
   "source": []
  }
 ],
 "metadata": {
  "kernelspec": {
   "display_name": "Python 3",
   "language": "python",
   "name": "python3"
  },
  "language_info": {
   "codemirror_mode": {
    "name": "ipython",
    "version": 3
   },
   "file_extension": ".py",
   "mimetype": "text/x-python",
   "name": "python",
   "nbconvert_exporter": "python",
   "pygments_lexer": "ipython3",
   "version": "3.8.5"
  }
 },
 "nbformat": 4,
 "nbformat_minor": 4
}
