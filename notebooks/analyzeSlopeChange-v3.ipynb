{
 "cells": [
  {
   "cell_type": "markdown",
   "metadata": {},
   "source": [
    "## Set-Up the Environment"
   ]
  },
  {
   "cell_type": "code",
   "execution_count": null,
   "metadata": {},
   "outputs": [],
   "source": [
    "%load_ext autoreload\n",
    "import sys\n",
    "sys.path.append(\"../src\")\n",
    "import pyabf\n",
    "import slopeTools\n",
    "import abfTools\n",
    "import plotTools\n",
    "import statsTools\n",
    "import numpy as np\n",
    "import matplotlib.pyplot as plt"
   ]
  },
  {
   "cell_type": "markdown",
   "metadata": {},
   "source": [
    "## Load abf files "
   ]
  },
  {
   "cell_type": "code",
   "execution_count": null,
   "metadata": {},
   "outputs": [],
   "source": [
    "abfFilePaths = [\n",
    "    R\"X:/Data/C57/TGOT on PVT/2020-07-28 10nM TGOT on PVT/20804007.abf\",\n",
    "    #R\"X:/Data/C57/TGOT on PVT/2020-07-28 10nM TGOT on PVT/20804024.abf\", \n",
    "    R\"X:/Data/C57/TGOT on PVT/2020-07-28 10nM TGOT on PVT/20804030.abf\", \n",
    "    R\"X:/Data/C57/TGOT on PVT/2020-07-28 10nM TGOT on PVT/20804043.abf\",\n",
    "    R\"X:/Data/C57/TGOT on PVT/2020-07-28 10nM TGOT on PVT/20804048.abf\",\n",
    "    R\"X:/Data/C57/TGOT on PVT/2020-07-28 10nM TGOT on PVT/20804060.abf\",\n",
    "    R\"X:/Data/C57/TGOT on PVT/2020-07-28 10nM TGOT on PVT/20804066.abf\",\n",
    "    R\"X:/Data/C57/TGOT on PVT/2020-07-28 10nM TGOT on PVT/20805008.abf\",\n",
    "    R\"X:/Data/C57/TGOT on PVT/2020-07-28 10nM TGOT on PVT/20805029.abf\",\n",
    "    R\"X:/Data/C57/TGOT on PVT/2020-07-28 10nM TGOT on PVT/20805035.abf\",\n",
    "    R\"X:/Data/C57/TGOT on PVT/2020-07-28 10nM TGOT on PVT/20811011.abf\",\n",
    "    R\"X:/Data/C57/TGOT on PVT/2020-07-28 10nM TGOT on PVT/20811021.abf\",\n",
    "    R\"X:/Data/C57/TGOT on PVT/2020-07-28 10nM TGOT on PVT/20817012.abf\",\n",
    "    R\"X:/Data/C57/TGOT on PVT/2020-07-28 10nM TGOT on PVT/20831011.abf\",\n",
    "    R\"X:/Data/C57/TGOT on PVT/2020-07-28 10nM TGOT on PVT/20831017.abf\"\n",
    "]\n",
    "#abfFilePaths = abfFilePaths[4:6]"
   ]
  },
  {
   "cell_type": "markdown",
   "metadata": {},
   "source": [
    "## ABF Holding Current Slope Analysis\n",
    "* Get holding current from every sweep\n",
    "* Apply a moving window filter to smooth the data\n",
    "* Apply a single linear regression in the baseline period (0-5min) to get the slope of baseline.\n",
    "* Generate multiple linear regression on the segregated data during drug application period (5-15min), and get the most negative slipe as the slope of drug."
   ]
  },
  {
   "cell_type": "code",
   "execution_count": null,
   "metadata": {},
   "outputs": [],
   "source": [
    "filterSize = 15 #sweeps\n",
    "sweepLength = 10/60 #min\n",
    "segmentSize = 10 #sweeps\n"
   ]
  },
  {
   "cell_type": "code",
   "execution_count": null,
   "metadata": {
    "scrolled": false
   },
   "outputs": [],
   "source": [
    "abfIDs = []\n",
    "\n",
    "for abfFilePath in abfFilePaths:\n",
    "    # get the tag-aligned raw data of holding current and time\n",
    "    currentsRaw, timesRaw, abfID = abfTools.meanIhold(abfFilePath)\n",
    "    abfIDs.append(abfID)\n",
    "        \n",
    "    # Get the smoothed holding current by the filterSize\n",
    "    currentsSmooth, currentsSmoothTimes = statsTools.smoothY(currentsRaw, timesRaw, filterSize)\n",
    "    \n",
    "    # Separate the smoothed holding current into baseline period (0-5min) and drug application period (5-15min).\n",
    "    baselineStartIndex, baselineEndIndex = statsTools.rangeIndex(currentsSmoothTimes, 2, 5)\n",
    "    baselineCurrent = currentsSmooth[baselineStartIndex:baselineEndIndex]\n",
    "    \n",
    "    # Apply a single linear regression in the baseline period (0-5min) to get the slope of baseline.\n",
    "    baselineSlope, baselineIntercept = slopeTools.getRegression(baselineCurrent, sweepLength)\n",
    "    baselineTime = 3.5 #min\n",
    "    \n",
    "    # Generate multiple linear regression on the segregated data \n",
    "    currentSegs = statsTools.getMovingWindowSegments(currentsSmooth, segmentSize)\n",
    "    segSlopes = slopeTools.getAllSegmentSlopes(currentSegs, segmentSize*sweepLength)\n",
    "    tagTime = abfTools.getFirstTagTime(abfFilePath)\n",
    "    slopeTimeOffset = segmentSize * sweepLength / 2-(tagTime-5)\n",
    "    drugSlopeTimes = np.arange(len(segSlopes))*sweepLength + slopeTimeOffset\n",
    "    \n",
    "    # Find the most negative slope during drug application period (5-15min) as the slope of drug.\n",
    "    drugSlopeMin = statsTools.rangeMin(segSlopes,drugSlopeTimes, 5, 15)\n",
    "    drugSlopeMinIndex = segSlopes.index(drugSlopeMin)\n",
    "\n",
    "    drugSlopeMinTime = drugSlopeTimes[drugSlopeMinIndex]\n",
    "    \n",
    "    # Plot the data and its slopes\n",
    "  \n",
    "    plt.figure()\n",
    "    ax1 = plt.subplot(211)\n",
    "    plotTools.plotCurrentOverTimeAndLabelPeakSlope(currentsRaw, timesRaw, drugSlopeMinTime, filterSize)\n",
    "    plt.plot(currentsSmoothTimes, currentsSmooth, 'k')\n",
    "    fittedBaslineX = np.linspace(0, 5)\n",
    "    fittedBaslineY = fittedBaslineX*baselineSlope + baselineIntercept\n",
    "    plt.plot(fittedBaslineX, fittedBaslineY, '--', color=\"red\")\n",
    "    plt.title(abfID)\n",
    "\n",
    "    ax2 = plt.subplot(212, sharex=ax1)\n",
    "    plotTools.plotSlopesOverTimeAndMarkpeakSlope(segSlopes, drugSlopeTimes, drugSlopeMinTime, drugSlopeMin)\n",
    "    plt.plot(baselineTime, baselineSlope, 'b.', ms=15, alpha=.5)\n",
    "    plt.show()\n",
    "    \n"
   ]
  },
  {
   "cell_type": "code",
   "execution_count": null,
   "metadata": {},
   "outputs": [],
   "source": []
  }
 ],
 "metadata": {
  "kernelspec": {
   "display_name": "Python 3",
   "language": "python",
   "name": "python3"
  },
  "language_info": {
   "codemirror_mode": {
    "name": "ipython",
    "version": 3
   },
   "file_extension": ".py",
   "mimetype": "text/x-python",
   "name": "python",
   "nbconvert_exporter": "python",
   "pygments_lexer": "ipython3",
   "version": "3.8.5"
  }
 },
 "nbformat": 4,
 "nbformat_minor": 4
}
