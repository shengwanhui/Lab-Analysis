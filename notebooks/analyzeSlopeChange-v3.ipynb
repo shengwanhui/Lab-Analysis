{
 "cells": [
  {
   "cell_type": "markdown",
   "metadata": {},
   "source": [
    "## Set-Up the Environment"
   ]
  },
  {
   "cell_type": "code",
   "execution_count": null,
   "metadata": {},
   "outputs": [],
   "source": [
    "%load_ext autoreload\n",
    "import sys\n",
    "sys.path.append(\"../src\")\n",
    "import pyabf\n",
    "import slopeTools\n",
    "import abfTools\n",
    "import plotTools\n",
    "import statsTools\n",
    "import scipy.stats\n",
    "import numpy as np\n",
    "import matplotlib.pyplot as plt"
   ]
  },
  {
   "cell_type": "markdown",
   "metadata": {},
   "source": [
    "## Define ABF Files \n",
    "\n",
    "The user can list the ABF files they want to analyze"
   ]
  },
  {
   "cell_type": "code",
   "execution_count": null,
   "metadata": {},
   "outputs": [],
   "source": [
    "abfFilePaths = [\n",
    "    R\"X:/Data/C57/TGOT on PVT/2020-07-28 10nM TGOT on PVT/20804007.abf\",\n",
    "    R\"X:/Data/C57/TGOT on PVT/2020-07-28 10nM TGOT on PVT/20804030.abf\", \n",
    "    R\"X:/Data/C57/TGOT on PVT/2020-07-28 10nM TGOT on PVT/20804043.abf\",\n",
    "    R\"X:/Data/C57/TGOT on PVT/2020-07-28 10nM TGOT on PVT/20804048.abf\",\n",
    "    R\"X:/Data/C57/TGOT on PVT/2020-07-28 10nM TGOT on PVT/20804060.abf\",\n",
    "    R\"X:/Data/C57/TGOT on PVT/2020-07-28 10nM TGOT on PVT/20804066.abf\",\n",
    "    R\"X:/Data/C57/TGOT on PVT/2020-07-28 10nM TGOT on PVT/20805008.abf\",\n",
    "    R\"X:/Data/C57/TGOT on PVT/2020-07-28 10nM TGOT on PVT/20805029.abf\",\n",
    "    R\"X:/Data/C57/TGOT on PVT/2020-07-28 10nM TGOT on PVT/20805035.abf\",\n",
    "    R\"X:/Data/C57/TGOT on PVT/2020-07-28 10nM TGOT on PVT/20811011.abf\",\n",
    "    R\"X:/Data/C57/TGOT on PVT/2020-07-28 10nM TGOT on PVT/20811021.abf\",\n",
    "    R\"X:/Data/C57/TGOT on PVT/2020-07-28 10nM TGOT on PVT/20817012.abf\",\n",
    "    R\"X:/Data/C57/TGOT on PVT/2020-07-28 10nM TGOT on PVT/20831011.abf\",\n",
    "    R\"X:/Data/C57/TGOT on PVT/2020-07-28 10nM TGOT on PVT/20831017.abf\"\n",
    "]"
   ]
  },
  {
   "cell_type": "markdown",
   "metadata": {},
   "source": [
    "## ABF Holding Current Slope Analysis"
   ]
  },
  {
   "cell_type": "code",
   "execution_count": null,
   "metadata": {
    "tags": []
   },
   "outputs": [],
   "source": [
    "def getBaselineAndMaxDrugSlope(abfFilePath, filterSize = 15, regressionSize = 15):\n",
    "    \"\"\"\n",
    "    This method analyzes holding current in an ABF and returns baseline slope and drug slope.\n",
    "    \n",
    "    Arguments:\n",
    "        filterSize: number of points (sweeps) for the moving window average\n",
    "        regressionSize: number of points (sweeps) to use to calculate regression slopes during the drug range\n",
    "        \n",
    "    Returns:\n",
    "        baseline regression slope (over full range)\n",
    "        peak drug regression slope (regression over defined size)\n",
    "    \"\"\"\n",
    "    \n",
    "    abf = pyabf.ABF(abfFilePath)\n",
    "    sweepPeriod = abf.sweepLengthSec / 60.0 # minutes\n",
    "    \n",
    "    plt.figure(figsize=(8, 6))\n",
    "    ax1 = plt.subplot(211)\n",
    "    plt.title(abf.abfID)\n",
    "    plt.ylabel(\"Mean Current (pA)\")\n",
    "    \n",
    "    rawCurrents = abfTools.getMeanBySweep(abf, 3, 10)\n",
    "    rawTimes = abf.sweepTimesMin\n",
    "    plt.plot(rawTimes, rawCurrents, '.', alpha=.5)\n",
    "\n",
    "    smoothCurrents, smoothTimes = statsTools.smoothY(rawCurrents, rawTimes, filterSize)\n",
    "    plt.plot(smoothTimes, smoothCurrents, '-')\n",
    "    \n",
    "    # determine drug region based on first tag time\n",
    "    drugTimeStart = abfTools.getFirstTagTime(abfFilePath)\n",
    "    drugSearchWidth = 5 # minutes\n",
    "    drugTimeEnd = drugTimeStart + drugSearchWidth\n",
    "    plt.axvspan(drugTimeStart, drugTimeEnd, color='r', alpha=.1)\n",
    "    \n",
    "    # determine baseline region based on drug time\n",
    "    baselineTimeStart = drugTimeStart - 3\n",
    "    baselineTimeEnd = drugTimeStart\n",
    "    baselineIndexStart, baselineIndexEnd = statsTools.rangeIndex(smoothTimes, baselineTimeStart, baselineTimeEnd)\n",
    "    baselineCurrent = smoothCurrents[baselineIndexStart:baselineIndexEnd]\n",
    "    plt.axvspan(baselineTimeStart, baselineTimeEnd, color='b', alpha=.1)\n",
    "    \n",
    "    # isolate smoothed baseline currents\n",
    "    baselineCurrents = smoothCurrents[baselineIndexStart:baselineIndexEnd]\n",
    "    baselineTimes = smoothTimes[baselineIndexStart:baselineIndexEnd]\n",
    "    baselineSlope, baselineIntercept, r, p, stdErr = scipy.stats.linregress(baselineTimes, baselineCurrents)\n",
    "    \n",
    "    # calculate linear regression of baseline region\n",
    "    baselineRegressionXs = np.linspace(baselineTimeStart, baselineTimeEnd)\n",
    "    baselineRegressionYs = baselineRegressionXs * baselineSlope + baselineIntercept\n",
    "    plt.plot(baselineRegressionXs, baselineRegressionYs, color='b', ls='--')\n",
    "    print(f\"Baseline slope: {baselineSlope} pA/min\")\n",
    "    \n",
    "    # perform a moving window linear regression on the smoothed currents\n",
    "    segments = statsTools.getMovingWindowSegments(smoothCurrents, regressionSize)\n",
    "    segSlopes = slopeTools.getAllSegmentSlopes(segments, sweepPeriod)   \n",
    "    segTimesOffset = (regressionSize * sweepPeriod)\n",
    "    segTimes = np.arange(len(segSlopes)) * sweepPeriod + segTimesOffset    \n",
    "    plt.subplot(212, sharex = ax1)\n",
    "    plt.plot(segTimes, segSlopes)\n",
    "    \n",
    "    # search the drug range for the most negative slope\n",
    "    plt.axvspan(drugTimeStart, drugTimeEnd, color='r', alpha=.1)\n",
    "    drugSlopeMin = statsTools.rangeMin(segSlopes, segTimes, drugTimeStart, drugTimeEnd)\n",
    "    drugSlopeMinIndex = segSlopes.index(drugSlopeMin)\n",
    "    drugSlopeMinTime = segTimes[drugSlopeMinIndex]\n",
    "    print(f\"Drug slope: {drugSlopeMin} pA/min\")\n",
    "    plt.axvline(drugSlopeMinTime, color='r', ls='--')\n",
    "    plt.axhline(drugSlopeMin, color='r', ls='--')\n",
    "    plt.axhline(baselineSlope, color='b', ls='--')\n",
    "    \n",
    "    plt.ylabel(\"Slope (pA/min)\")\n",
    "    plt.xlabel(\"Time (minutes)\")\n",
    "    \n",
    "    plt.show()\n",
    "    \n",
    "    return baselineSlope, drugSlopeMin"
   ]
  },
  {
   "cell_type": "code",
   "execution_count": null,
   "metadata": {
    "scrolled": true
   },
   "outputs": [],
   "source": [
    "baselineSlopes = []\n",
    "drugSlopes = []\n",
    "abfIDs = []\n",
    "for abfFilePath in abfFilePaths:\n",
    "    baselineSlope, drugSlope = getBaselineAndMaxDrugSlope(abfFilePath)\n",
    "    baselineSlopes.append(baselineSlope)\n",
    "    drugSlopes.append(drugSlope)\n",
    "    abf = pyabf.ABF(abfFilePath)\n",
    "    abfIDs.append(abf.abfID)"
   ]
  },
  {
   "cell_type": "code",
   "execution_count": null,
   "metadata": {},
   "outputs": [],
   "source": [
    "plotTools.plotPairs(baselineSlopes, drugSlopes, \"slopes\")"
   ]
  },
  {
   "cell_type": "code",
   "execution_count": null,
   "metadata": {},
   "outputs": [],
   "source": [
    "# create lists of responders and non-responders\n",
    "slopeThreshold = -1.5 # peak negative slope must exceed this value to be a responder\n",
    "statsTools.responderByDelta(abfIDs, baselineSlopes, drugSlopes, slopeThreshold)\n"
   ]
  },
  {
   "cell_type": "code",
   "execution_count": null,
   "metadata": {},
   "outputs": [],
   "source": []
  }
 ],
 "metadata": {
  "kernelspec": {
   "display_name": "Python 3",
   "language": "python",
   "name": "python3"
  },
  "language_info": {
   "codemirror_mode": {
    "name": "ipython",
    "version": 3
   },
   "file_extension": ".py",
   "mimetype": "text/x-python",
   "name": "python",
   "nbconvert_exporter": "python",
   "pygments_lexer": "ipython3",
   "version": "3.8.5"
  }
 },
 "nbformat": 4,
 "nbformat_minor": 4
}
