{
 "cells": [
  {
   "cell_type": "markdown",
   "metadata": {},
   "source": [
    "# Slope Analysis\n",
    "\n",
    "This project use the change of fluorecent intensity slope to identify responders from calcium imaging experiment."
   ]
  },
  {
   "cell_type": "markdown",
   "metadata": {},
   "source": [
    "## Analysis Steps\n",
    "\n",
    "The `getBaselineAndMaxDrugSlope` function smoothes the raw data by the moving window decided by `filterSize`, and analyzes the smoothed Ca intensity in an CSV and returns baseline slope and drug slope.\n",
    "\n",
    "The _slope of baseline_ is calculated as the linear regreasion slope during the 3 minutes period before stimulation onset.\n",
    "\n",
    "In addition, the smoothed data are separated into segments which n = regressionSize data points are included. The linear regression slope is then calculated for each segment. \n",
    "\n",
    "The _peak slope of stimulation_ is the most negative slope during the chosen stimulation period ."
   ]
  },
  {
   "cell_type": "markdown",
   "metadata": {},
   "source": [
    "## Set-Up the Environment"
   ]
  },
  {
   "cell_type": "code",
   "execution_count": null,
   "metadata": {},
   "outputs": [],
   "source": [
    "%load_ext autoreload\n",
    "import sys\n",
    "sys.path.append(\"../src\")\n",
    "from os.path import basename\n",
    "import slopeTools\n",
    "import plotTools\n",
    "import statsTools\n",
    "import matplotlib.pyplot as plt\n",
    "import numpy as np\n",
    "import pandas as pd\n",
    "import scipy.stats"
   ]
  },
  {
   "cell_type": "markdown",
   "metadata": {},
   "source": [
    "## Define CSV Files and Filter Settings\n",
    "\n",
    "The user can list the ABF files they want to analyze"
   ]
  },
  {
   "cell_type": "code",
   "execution_count": null,
   "metadata": {},
   "outputs": [],
   "source": [
    "def getBaselineAndMaxStimulationSlopeFromCSV(rawTimes,rawIntensity, filterSize = 15, regressionSize = 15):\n",
    "    \"\"\"\n",
    "    This method analyzes fluorecent intensuty in a CSV and returns baseline slope and stimulation slope.\n",
    "    \n",
    "    Arguments:\n",
    "        filterSize: number of points (sweeps) for the moving window average\n",
    "        regressionSize: number of points (sweeps) to use to calculate regression slopes during the stimulation range\n",
    "        \n",
    "    Returns:\n",
    "        baseline regression slope (over full range)\n",
    "        peak stimulus regression slope (regression over defined size)\n",
    "    \"\"\"\n",
    "    experimentPeriod = 5/60 #min\n",
    "    plt.plot(rawTimes, rawIntensity, '.', alpha=.5)\n",
    "    smoothIntensity, smoothTimes = statsTools.smoothY(rawIntensity, rawTimes, filterSize)\n",
    "    plt.plot(smoothTimes, smoothIntensity, '-')\n",
    "\n",
    "    # determine the time range of stimulus\n",
    "    stimulationTimeStart = rawTimes[30]\n",
    "    stimulationSearchWidth = 30 # index\n",
    "    stimulationTimeEnd = rawTimes[30 + stimulationSearchWidth]\n",
    "    plt.axvspan(stimulationTimeStart, stimulationTimeEnd, color='r', alpha=.1)\n",
    "\n",
    "    # determine baseline region based on stimulation time\n",
    "    baselineTimeStart = stimulationTimeStart-1\n",
    "    baselineTimeEnd = stimulationTimeStart\n",
    "    \n",
    "    baselineIndexStart, baselineIndexEnd = statsTools.rangeIndex(smoothTimes, baselineTimeStart, baselineTimeEnd)\n",
    "    baselineIntensity = smoothIntensity[baselineIndexStart:baselineIndexEnd]\n",
    "    plt.axvspan(baselineTimeStart, baselineTimeEnd, color='b', alpha=.1)\n",
    "\n",
    "    # isolate smoothed baseline intensity\n",
    "    baselineIntensity = smoothIntensity[baselineIndexStart:baselineIndexEnd]\n",
    "    baselineTimes = smoothTimes[baselineIndexStart:baselineIndexEnd]\n",
    "    baselineSlope, baselineIntercept, r, p, stdErr = scipy.stats.linregress(baselineTimes, baselineIntensity)\n",
    "    # calculate linear regression of baseline region\n",
    "    baselineRegressionXs = np.linspace(baselineTimeStart, baselineTimeEnd)\n",
    "    baselineRegressionYs = baselineRegressionXs * baselineSlope + baselineIntercept\n",
    "    plt.plot(baselineRegressionXs, baselineRegressionYs, color='b', ls='--')\n",
    "    print(f\"Baseline slope: {baselineSlope} AFU/min\")\n",
    "\n",
    "    # perform a moving window linear regression on the smoothed Intensity\n",
    "    segments = statsTools.getMovingWindowSegments(smoothIntensity, regressionSize)\n",
    "    segSlopes = slopeTools.getAllSegmentSlopes(segments, experimentPeriod)   \n",
    "    segTimesOffset = (regressionSize * experimentPeriod)\n",
    "    segTimes = np.arange(len(segSlopes)) * experimentPeriod + segTimesOffset    \n",
    "    plt.subplot(212, sharex = ax1)\n",
    "    plt.plot(segTimes, segSlopes, '.')\n",
    "\n",
    "    # search the stimulation range for the most negative slope\n",
    "    plt.axvspan(stimulationTimeStart, stimulationTimeEnd, color='r', alpha=.1)\n",
    "    stimulationSlopeMin = statsTools.rangeMin(segSlopes, segTimes, stimulationTimeStart, stimulationTimeEnd)\n",
    "    stimulationSlopeMinIndex = segSlopes.index(stimulationSlopeMin)\n",
    "    stimulationSlopeMinTime = segTimes[stimulationSlopeMinIndex]\n",
    "    print(f\"stimulation slope: {stimulationSlopeMin} AFU/min\")\n",
    "    plt.axvline(stimulationSlopeMinTime, color='r', ls='--')\n",
    "    plt.axhline(stimulationSlopeMin, color='r', ls='--')\n",
    "    plt.axhline(baselineSlope, color='b', ls='--')\n",
    "\n",
    "    plt.ylabel(\"Slope (AFU/min)\")\n",
    "    plt.xlabel(\"Time (minutes)\")\n",
    "\n",
    "    plt.show()\n",
    "    \n",
    "    return baselineSlope, stimulationSlopeMin"
   ]
  },
  {
   "cell_type": "code",
   "execution_count": null,
   "metadata": {},
   "outputs": [],
   "source": [
    "csvFilePaths = [R\"X:\\Data\\OT-Cre\\OT-GCaMP-nonspecific\\04-03-19 evoke OT\\04-30-2020 K-GLU analyze\\025um.xls\",\n",
    "                R\"X:\\Data\\OT-Cre\\OT-GCaMP-nonspecific\\04-03-19 evoke OT\\04-30-2020 K-GLU analyze\\050um.xls\"\n",
    "               ]"
   ]
  },
  {
   "cell_type": "markdown",
   "metadata": {},
   "source": [
    "The users can decide the parameters they want for data analysis. \n",
    "\n",
    "`filterSize` decides number of points (sweeps) for the moving window average. \n",
    "\n",
    "`regressionSize` decides the number of smoothed data points used to calculate linear regression slopes during the stimulation range."
   ]
  },
  {
   "cell_type": "code",
   "execution_count": null,
   "metadata": {},
   "outputs": [],
   "source": [
    "filterSize = 10\n",
    "regressionSize = 10"
   ]
  },
  {
   "cell_type": "markdown",
   "metadata": {},
   "source": [
    "## Analyze All ABFs"
   ]
  },
  {
   "cell_type": "code",
   "execution_count": null,
   "metadata": {
    "scrolled": false
   },
   "outputs": [],
   "source": [
    "baselineSlopes = []\n",
    "stimulationSlopes = []\n",
    "for csvFilePath in csvFilePaths:\n",
    "    csvData = pd.read_csv(csvFilePath, delimiter=\"\\t\")\n",
    "    roiNames = csvData.columns[1:]\n",
    "    framePeriodSeconds = 5.0\n",
    "    framesPerMinute = 60 / framePeriodSeconds\n",
    "    times = csvData['Time'].values / framesPerMinute\n",
    "\n",
    "\n",
    "    for roiName in roiNames:\n",
    "        plt.figure(figsize=(8, 6))\n",
    "        ax1 = plt.subplot(211)\n",
    "        plt.title(roiName)\n",
    "        plt.ylabel(\"AFU\")\n",
    "        rawIntensity = csvData[roiName].values\n",
    "        \n",
    "        baselineSlope, stimulationSlope = getBaselineAndMaxStimulationSlopeFromCSV(times, rawIntensity, filterSize, regressionSize)\n",
    "        baselineSlopes.append(baselineSlope)\n",
    "        stimulationSlopes.append(stimulationSlope)"
   ]
  },
  {
   "cell_type": "markdown",
   "metadata": {},
   "source": [
    "## Compare Baseline vs. Stimulation Slopes"
   ]
  },
  {
   "cell_type": "markdown",
   "metadata": {},
   "source": [
    "The users can plot the basleine slope and the peak stimulation slope of each cell, and report the p-value in the title by performing a paired t-test between baseline slopes and peak stimulation slopes."
   ]
  },
  {
   "cell_type": "code",
   "execution_count": null,
   "metadata": {},
   "outputs": [],
   "source": [
    "plotTools.plotPairs(baselineSlopes, stimulationSlopes, \"slopes\")"
   ]
  },
  {
   "cell_type": "markdown",
   "metadata": {},
   "source": [
    "## Assess Responsiveness of All Cells"
   ]
  },
  {
   "cell_type": "markdown",
   "metadata": {},
   "source": [
    "Generate a scatter plot showing the slope difference of each cell."
   ]
  },
  {
   "cell_type": "code",
   "execution_count": null,
   "metadata": {},
   "outputs": [],
   "source": [
    "slopeThreshold = -200 \n",
    "stimulationEffects = []\n",
    "for i in range(len(roiNames)):\n",
    "    stimulationEffects.append(stimulationSlopes[i] - baselineSlopes[i])\n",
    "\n",
    "plt.figure (figsize=(6, 4))\n",
    "plt.ylabel(\"Slope Difference (%/min)\")\n",
    "plt.plot(roiNames, stimulationEffects, 'o', color = \"b\")\n",
    "plt.gca().set_xticklabels(roiNames, rotation=45, ha='right')\n",
    "plt.axhline(slopeThreshold, color='r', ls='--')\n",
    "plt.show()"
   ]
  },
  {
   "cell_type": "markdown",
   "metadata": {},
   "source": [
    "## Define Cells as Responsive vs. Non-Responsive"
   ]
  },
  {
   "cell_type": "markdown",
   "metadata": {},
   "source": [
    "The users can define the <b>slopeThreshold</b>. The difference between baseline slope and peak stimulation slope must be more negative than this value to be a responder\n",
    "slopeThreshold"
   ]
  },
  {
   "cell_type": "code",
   "execution_count": null,
   "metadata": {},
   "outputs": [],
   "source": [
    "stimulationEffects=statsTools.responderByDelta(roiNames, stimulationEffects, slopeThreshold)"
   ]
  },
  {
   "cell_type": "code",
   "execution_count": null,
   "metadata": {},
   "outputs": [],
   "source": []
  }
 ],
 "metadata": {
  "kernelspec": {
   "display_name": "Python 3",
   "language": "python",
   "name": "python3"
  },
  "language_info": {
   "codemirror_mode": {
    "name": "ipython",
    "version": 3
   },
   "file_extension": ".py",
   "mimetype": "text/x-python",
   "name": "python",
   "nbconvert_exporter": "python",
   "pygments_lexer": "ipython3",
   "version": "3.8.5"
  }
 },
 "nbformat": 4,
 "nbformat_minor": 4
}
