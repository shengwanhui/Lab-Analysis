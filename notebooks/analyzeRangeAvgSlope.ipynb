{
 "cells": [
  {
   "cell_type": "markdown",
   "metadata": {},
   "source": [
    "## Set-Up the Environment"
   ]
  },
  {
   "cell_type": "code",
   "execution_count": null,
   "metadata": {},
   "outputs": [],
   "source": [
    "import pyabf\n",
    "import slopeTools\n",
    "import abfTools\n",
    "import plotTools\n",
    "import statsTools\n",
    "import numpy as np\n",
    "import matplotlib.pyplot as plt"
   ]
  },
  {
   "cell_type": "markdown",
   "metadata": {},
   "source": [
    "## Moving Window Mean\n",
    "\n",
    "This function creates a new set of data where each point is the mean of the adjacent `N` points (where `N` is defined by `windowSize`)"
   ]
  },
  {
   "cell_type": "code",
   "execution_count": null,
   "metadata": {},
   "outputs": [],
   "source": [
    "def demonstrateMovingWindowMean(pointCount = 100):\n",
    "    \"\"\"\n",
    "    Demonstrate the moving window average method on random data using multiple window sizes\n",
    "    \"\"\"\n",
    "    values = np.cumsum(np.random.random_sample(pointCount) - .5) # random walk\n",
    "    times = np.arange(pointCount) * 10/60\n",
    "\n",
    "    plt.figure()\n",
    "    plt.plot(times, values, label=\"original\")\n",
    "\n",
    "    for windowSize in [5, 10, 15]:\n",
    "        smoothValues, smoothTimes = statsTools.smoothY(values, times, windowSize) \n",
    "        plt.plot(smoothTimes, smoothValues, label=f\"window: {windowSize}\")\n",
    "    \n",
    "    plt.title(\"Moving Window Average\")\n",
    "    plt.legend()\n",
    "    plt.show()\n",
    "    \n",
    "demonstrateMovingWindowMean()"
   ]
  },
  {
   "cell_type": "markdown",
   "metadata": {},
   "source": [
    "## ABF Holding Current Slope Analysis\n",
    "* Get holding current from every sweep\n",
    "* Apply a moving window filter to smooth the data\n",
    "* Report the slope between every data point"
   ]
  },
  {
   "cell_type": "code",
   "execution_count": null,
   "metadata": {
    "scrolled": true
   },
   "outputs": [],
   "source": [
    "windowSize = 15 #sweeps\n",
    "sweepLength = 10/60 #min\n",
    "abfIDs = []\n",
    "currentsBaseline = []\n",
    "currentsDrug = []\n",
    "meanSlopesBaseline = []\n",
    "peakSlopesDrug = []\n",
    "\n",
    "abfFilePaths = [\n",
    "    R\"X:/Data/C57/TGOT on PVT/2020-07-28 10nM TGOT on PVT/20804007.abf\",\n",
    "    R\"X:/Data/C57/TGOT on PVT/2020-07-28 10nM TGOT on PVT/20804024.abf\", \n",
    "    R\"X:/Data/C57/TGOT on PVT/2020-07-28 10nM TGOT on PVT/20804030.abf\", \n",
    "    R\"X:/Data/C57/TGOT on PVT/2020-07-28 10nM TGOT on PVT/20804043.abf\",\n",
    "    R\"X:/Data/C57/TGOT on PVT/2020-07-28 10nM TGOT on PVT/20804048.abf\",\n",
    "    R\"X:/Data/C57/TGOT on PVT/2020-07-28 10nM TGOT on PVT/20804060.abf\",\n",
    "    R\"X:/Data/C57/TGOT on PVT/2020-07-28 10nM TGOT on PVT/20804066.abf\",\n",
    "    R\"X:/Data/C57/TGOT on PVT/2020-07-28 10nM TGOT on PVT/20805008.abf\",\n",
    "    R\"X:/Data/C57/TGOT on PVT/2020-07-28 10nM TGOT on PVT/20805029.abf\",\n",
    "    R\"X:/Data/C57/TGOT on PVT/2020-07-28 10nM TGOT on PVT/20805035.abf\",\n",
    "    R\"X:/Data/C57/TGOT on PVT/2020-07-28 10nM TGOT on PVT/20811011.abf\",\n",
    "    R\"X:/Data/C57/TGOT on PVT/2020-07-28 10nM TGOT on PVT/20811021.abf\",\n",
    "    R\"X:/Data/C57/TGOT on PVT/2020-07-28 10nM TGOT on PVT/20817012.abf\",\n",
    "    R\"X:/Data/C57/TGOT on PVT/2020-07-28 10nM TGOT on PVT/20831011.abf\",\n",
    "    R\"X:/Data/C57/TGOT on PVT/2020-07-28 10nM TGOT on PVT/20831017.abf\"\n",
    "]\n",
    "\n",
    "for abfFilePath in abfFilePaths:\n",
    "    \n",
    "    # Get raw holding current\n",
    "    currentsRaw, timesRaw, abfID = abfTools.meanIhold(abfFilePath)\n",
    "    abfIDs.append(abfID)\n",
    "    \n",
    "    # Get the mean current during baseline and drug application\n",
    "    currentsBaseline.append(statsTools.rangeMean(currentsRaw, timesRaw, 3, 5))\n",
    "    currentsDrug.append(statsTools.rangeMean(currentsRaw, timesRaw, 6, 10))\n",
    "    \n",
    "    # Get smoothed holding current\n",
    "    currentsSmooth, currentsSmoothTimes = statsTools.smoothY(currentsRaw, timesRaw, windowSize)\n",
    "    \n",
    "    # Get slopes of consecutive data points\n",
    "    slopes = slopeTools.consecutiveSlopes(currentsSmooth, currentsSmoothTimes)\n",
    "    slopeTimes = currentsSmoothTimes[0:len(slopes)]\n",
    "        \n",
    "    # Determine the time of the first tag. Later it will be aligned to be 5 minutes\n",
    "    firstTagTime = abfTools.getFirstTagTime(abfFilePath)\n",
    "\n",
    "    # Get the peak slope during a limited range of time\n",
    "    peakSlopeTimeMin = 5\n",
    "    peakSlopeTimeMax = 10\n",
    "    peakSlope = statsTools.rangeMin(slopes, currentsSmoothTimes, peakSlopeTimeMin, peakSlopeTimeMax)\n",
    "    peakSlopesDrug.append(peakSlope)\n",
    "    peakSlopeIndex = slopes.index(peakSlope)\n",
    "    peakSlopeTime = currentsSmoothTimes[peakSlopeIndex]\n",
    "    \n",
    "    # Get the mean slope during baseline (3-5 min)\n",
    "    meanSlopeBaseline = statsTools.rangeMean(slopes, currentsSmoothTimes, 3, 5)\n",
    "    meanSlopesBaseline.append(meanSlopeBaseline)\n",
    "    \n",
    "    # Plot the data and its slopes\n",
    "\n",
    "    \n",
    "    plt.figure()\n",
    "    ax1 = plt.subplot(211)\n",
    "    plotTools.plotCurrentOverTimeAndLabelPeakSlope(currentsRaw, timesRaw, peakSlopeTime, windowSize)\n",
    "    plt.title(abfID)\n",
    "\n",
    "    ax2 = plt.subplot(212, sharex=ax1)\n",
    "    plotTools.plotSlopesOverTimeAndMarkpeakSlope(slopes, slopeTimes, peakSlopeTime, peakSlope)\n",
    "    \n",
    "    plt.show()\n",
    "    "
   ]
  },
  {
   "cell_type": "markdown",
   "metadata": {},
   "source": [
    "### Plot slopes before and during drug application"
   ]
  },
  {
   "cell_type": "code",
   "execution_count": null,
   "metadata": {
    "scrolled": false
   },
   "outputs": [],
   "source": [
    "plotTools.plotPairs(meanSlopesBaseline, peakSlopesDrug, \"Slopes\")\n",
    "plotTools.plotPairs(currentsBaseline, currentsDrug, \"Mean Current\")"
   ]
  },
  {
   "cell_type": "markdown",
   "metadata": {},
   "source": [
    "### Report responders and non-responders based on the given criterias\n",
    "1. Change of slope is larger than the defined threshold.\n",
    "2. The delta holding current during drug application period is less than 0.\n",
    "\n",
    "_Slopes are in pA/min_"
   ]
  },
  {
   "cell_type": "code",
   "execution_count": null,
   "metadata": {},
   "outputs": [],
   "source": [
    "slopeThreshold = -1.5 # peak negative slope must exceed this value to be a responder\n",
    "\n",
    "# create lists of responders and non-responders\n",
    "responders=[]\n",
    "nonResponders=[]\n",
    "for i in range(len(abfIDs)):\n",
    "    abfID = abfIDs[i]\n",
    "    drugEffectSlope = peakSlopesDrug[i] - meanSlopesBaseline[i]\n",
    "    cellHasSteepNegativeSlope = drugEffectSlope <= slopeThreshold\n",
    "    cellGoesNegativeOverTime = currentsDrug[i]-currentsBaseline[i] < 0\n",
    "    if cellHasSteepNegativeSlope and cellGoesNegativeOverTime:\n",
    "        responders.append(abfID)\n",
    "    else:\n",
    "        nonResponders.append(abfID)\n",
    "\n",
    "responseRate = round(len(responders)/len(abfIDs)*100, 3)\n",
    "print(f\"Responders = {len(responders)}\")\n",
    "print(f\"Non-Responders = {len(nonResponders)}\")\n",
    "print(f\"Response rate = {responseRate}%\")"
   ]
  },
  {
   "cell_type": "code",
   "execution_count": null,
   "metadata": {},
   "outputs": [],
   "source": [
    "print(\"Responders: \" + \", \".join(responders))\n",
    "print(\"Non-Responders: \" + \", \".join(nonResponders))"
   ]
  },
  {
   "cell_type": "code",
   "execution_count": null,
   "metadata": {},
   "outputs": [],
   "source": []
  }
 ],
 "metadata": {
  "kernelspec": {
   "display_name": "Python 3",
   "language": "python",
   "name": "python3"
  },
  "language_info": {
   "codemirror_mode": {
    "name": "ipython",
    "version": 3
   },
   "file_extension": ".py",
   "mimetype": "text/x-python",
   "name": "python",
   "nbconvert_exporter": "python",
   "pygments_lexer": "ipython3",
   "version": "3.8.5"
  }
 },
 "nbformat": 4,
 "nbformat_minor": 4
}
