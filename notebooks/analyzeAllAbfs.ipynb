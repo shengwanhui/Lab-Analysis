{
 "cells": [
  {
   "cell_type": "markdown",
   "metadata": {},
   "source": [
    "# Holding Current Slope Analysis\n",
    "\n",
    "This project explores the utility of measuring the slow change in holing current before/after a drug exposure"
   ]
  },
  {
   "cell_type": "markdown",
   "metadata": {},
   "source": [
    "### Set-Up the Environment\n",
    "\n",
    "Only voltage-clamp ABFs with tags where drug was added will be analyzed"
   ]
  },
  {
   "cell_type": "code",
   "execution_count": null,
   "metadata": {},
   "outputs": [],
   "source": [
    "import pyabf\n",
    "import slopeTools\n",
    "import abfTools\n",
    "import plotTools\n",
    "import statsTools\n",
    "\n",
    "abfFilePaths = [\n",
    "    R\"X:/Data/C57/TGOT on PVT/2020-07-28 10nM TGOT on PVT/20804007.abf\",\n",
    "    R\"X:/Data/C57/TGOT on PVT/2020-07-28 10nM TGOT on PVT/20804024.abf\", \n",
    "    R\"X:/Data/C57/TGOT on PVT/2020-07-28 10nM TGOT on PVT/20804030.abf\", \n",
    "    R\"X:/Data/C57/TGOT on PVT/2020-07-28 10nM TGOT on PVT/20804043.abf\",\n",
    "    R\"X:/Data/C57/TGOT on PVT/2020-07-28 10nM TGOT on PVT/20804048.abf\",\n",
    "    R\"X:/Data/C57/TGOT on PVT/2020-07-28 10nM TGOT on PVT/20804060.abf\", \n",
    "    R\"X:/Data/C57/TGOT on PVT/2020-07-28 10nM TGOT on PVT/20804066.abf\",\n",
    "    R\"X:/Data/C57/TGOT on PVT/2020-07-28 10nM TGOT on PVT/20805008.abf\",\n",
    "    R\"X:/Data/C57/TGOT on PVT/2020-07-28 10nM TGOT on PVT/20805029.abf\",\n",
    "    R\"X:/Data/C57/TGOT on PVT/2020-07-28 10nM TGOT on PVT/20805035.abf\",\n",
    "    R\"X:/Data/C57/TGOT on PVT/2020-07-28 10nM TGOT on PVT/20811011.abf\",\n",
    "    R\"X:/Data/C57/TGOT on PVT/2020-07-28 10nM TGOT on PVT/20811021.abf\",\n",
    "    R\"X:/Data/C57/TGOT on PVT/2020-07-28 10nM TGOT on PVT/20817012.abf\",\n",
    "    R\"X:/Data/C57/TGOT on PVT/2020-07-28 10nM TGOT on PVT/20831011.abf\",\n",
    "    R\"X:/Data/C57/TGOT on PVT/2020-07-28 10nM TGOT on PVT/20831017.abf\"\n",
    "]"
   ]
  },
  {
   "cell_type": "markdown",
   "metadata": {},
   "source": [
    "### Slope Analysis Example\n",
    "\n",
    "* Slope of baseline and drug regions is determined using linear regression\n",
    "* Baseline and drug regions are automatically placed relative to the first tag in the ABF"
   ]
  },
  {
   "cell_type": "code",
   "execution_count": null,
   "metadata": {},
   "outputs": [],
   "source": [
    "abfFilePath = abfFilePaths[4]\n",
    "abf = pyabf.ABF(abfFilePath)\n",
    "drugStartTime = abfTools.getFirstTagTime(abfFilePath)\n",
    "slope1, slope2 = slopeTools.plotExperiment(abfFilePath, drugStartTime, measurementTime=3, drugMeasurementDelay=1)\n",
    "print(f\"baseline slope = {slope1} pA / sweep\")\n",
    "print(f\"drug slope = {slope2} pA / sweep\")"
   ]
  },
  {
   "cell_type": "markdown",
   "metadata": {},
   "source": [
    "### Slope Analysis of Every Cell\n",
    "\n",
    "* This step will run the analysis on every cell\n",
    "* Baseline and drug slopes will be stored so we can analyze them as a population later\n",
    "* Plots will be made for every cell so we can visually inspect the quality of the fit"
   ]
  },
  {
   "cell_type": "code",
   "execution_count": null,
   "metadata": {
    "scrolled": true
   },
   "outputs": [],
   "source": [
    "baselineSlopes=[]\n",
    "drugSlopes=[]\n",
    "abfIDs=[]\n",
    "\n",
    "for abfFilePath in abfFilePaths:\n",
    "    abf = pyabf.ABF(abfFilePath)\n",
    "    abfIDs.append(abf.abfID)\n",
    "    drugStartTime = abfTools.getFirstTagTime(abfFilePath)\n",
    "    slope1, slope2 = slopeTools.plotExperiment(abfFilePath, drugStartTime, measurementTime=3, drugMeasurementDelay=1)\n",
    "    baselineSlopes.append(slope1)\n",
    "    drugSlopes.append(slope2)"
   ]
  },
  {
   "cell_type": "markdown",
   "metadata": {},
   "source": [
    "### Population Analysis of Slope Changes for All Cells"
   ]
  },
  {
   "cell_type": "code",
   "execution_count": null,
   "metadata": {},
   "outputs": [],
   "source": [
    "plotTools.plotPairs(baselineSlopes, drugSlopes)"
   ]
  },
  {
   "cell_type": "code",
   "execution_count": null,
   "metadata": {},
   "outputs": [],
   "source": [
    "# TODO: show this as a Pandas data frame and show mean ± stdErr of all columns\n",
    "\n",
    "print(f\"ABF ID\\t\\tSlope Change\\tBaseline\\tDrug\")\n",
    "    \n",
    "for i in range(len(abfIDs)):\n",
    "    \n",
    "    abfID = abfIDs[i]\n",
    "    slope1 = round(baselineSlopes[i], 3)\n",
    "    slope2 = round(drugSlopes[i], 3)\n",
    "    deltaSlope = round(slope2 - slope1, 3)\n",
    "    \n",
    "    print(f\"{abfID}\\t{deltaSlope}\\t\\t{slope1}\\t\\t{slope2}\")"
   ]
  }
 ],
 "metadata": {
  "kernelspec": {
   "display_name": "Python 3",
   "language": "python",
   "name": "python3"
  },
  "language_info": {
   "codemirror_mode": {
    "name": "ipython",
    "version": 3
   },
   "file_extension": ".py",
   "mimetype": "text/x-python",
   "name": "python",
   "nbconvert_exporter": "python",
   "pygments_lexer": "ipython3",
   "version": "3.8.5"
  }
 },
 "nbformat": 4,
 "nbformat_minor": 4
}
