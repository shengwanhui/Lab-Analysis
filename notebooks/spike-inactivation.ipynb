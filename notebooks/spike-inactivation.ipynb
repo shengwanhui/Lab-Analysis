{
 "cells": [
  {
   "cell_type": "markdown",
   "metadata": {},
   "source": [
    "# Spike Inactivation\n",
    "\n",
    "This project explores how to measure spike inactivation and compares inactivation in NAc MSNs of a control vs. drug group"
   ]
  },
  {
   "cell_type": "markdown",
   "metadata": {},
   "source": [
    "## Set-Up the Environment\n",
    "\n",
    "* This code is not intended to be reviewed in this document. \n",
    "* Code in jupyter notebooks is not reusable or testable.\n",
    "* Mature functions should be moved into modules after the notebook is finished."
   ]
  },
  {
   "cell_type": "code",
   "execution_count": null,
   "metadata": {
    "tags": []
   },
   "outputs": [],
   "source": [
    "import pyabf\n",
    "import matplotlib.pyplot as plt\n",
    "import numpy as np\n",
    "\n",
    "def getStepTrace(abf, sweepIndex, stepEpochIndex = 2, skipMsec = 50):\n",
    "    \"\"\"\n",
    "    Return the isolated voltage trace during the depolarizing step.\n",
    "    The depolarizing step is defined by the epoch number, and the first\n",
    "    bit of time is trimmed to prevent analysis of the rising phase.\n",
    "    \"\"\"\n",
    "    abf.setSweep(sweepIndex)\n",
    "    stepIndex1 = abf.sweepEpochs.p1s[stepEpochIndex]\n",
    "    stepIndex2 = abf.sweepEpochs.p2s[stepEpochIndex]\n",
    "    skipPoints = skipMsec * abf.dataPointsPerMs\n",
    "    trace = abf.sweepY[stepIndex1+skipPoints:stepIndex2]\n",
    "    return trace\n",
    "\n",
    "def plotTrace(abf, trace, newFigure = True, showFigure = True):\n",
    "    \"\"\"\n",
    "    Plot an isolated trace but do not show the figure\n",
    "    \"\"\"\n",
    "    if (newFigure):    \n",
    "        plt.figure(figsize=(12, 4))\n",
    "        \n",
    "    times = np.arange(len(trace)) / abf.dataRate\n",
    "    plt.plot(times, trace, lw=.5)\n",
    "    plt.ylabel(\"Potential (mV)\")\n",
    "    plt.xlabel(\"Time (seconds)\")\n",
    "    plt.title(abf.abfID)\n",
    "    \n",
    "    if (showFigure):\n",
    "        plt.show()\n",
    "        \n",
    "def getApIndexes(trace, sampleRate, threshold):\n",
    "    \"\"\"\n",
    "    Detect action potentials using a first derivative threshold (mV/ms).\n",
    "    Returns a list of indexes where each AP first crossed this threshold.\n",
    "    \"\"\"\n",
    "    \n",
    "    dVdt = np.diff(trace) * sampleRate / 1000 # mV/ms\n",
    "    \n",
    "    indexesAboveThreshold = np.where(dVdt >= threshold)[0]\n",
    "    if (len(indexesAboveThreshold)<5):\n",
    "        return [] # no points above threshold\n",
    "\n",
    "    apIndexes = [indexesAboveThreshold[0]]\n",
    "    for i in range(1, len(indexesAboveThreshold)):\n",
    "        pointsSinceLastCrossing = indexesAboveThreshold[i] - apIndexes[-1]\n",
    "        if (pointsSinceLastCrossing > 100):\n",
    "            apIndexes.append(indexesAboveThreshold[i])\n",
    "        \n",
    "    return apIndexes"
   ]
  },
  {
   "cell_type": "markdown",
   "metadata": {},
   "source": [
    "## Defining Spike Inactivation\n",
    "\n",
    "We define _spike inactivation_ as the period of time where a continuously-firing neuron stops firing for reasons other than a depolarization-induced inability to relieve the inactivation gate of voltage-gated sodium channels. Spike inactivation in NAc neurons can be induced by mAChR as reported in [_Muscarinic Enhancement of Persistent Sodium Current Synchronizes Striatal\n",
    "Medium Spiny Neurons_ (Carrillo-Reid et al., 2009)](https://journals.physiology.org/doi/pdf/10.1152/jn.00134.2009)"
   ]
  },
  {
   "cell_type": "code",
   "execution_count": null,
   "metadata": {
    "tags": []
   },
   "outputs": [],
   "source": [
    "abfFilePath = \"X:/Data/Sigma1-Cre/ephys/C57/2021_03_16_DIC1_0003.abf\"\n",
    "abf = pyabf.ABF(abfFilePath)\n",
    "trace = getStepTrace(abf, 20)\n",
    "plotTrace(abf, trace)"
   ]
  },
  {
   "cell_type": "markdown",
   "metadata": {},
   "source": [
    "## Detect Action Potentials (APs)\n",
    "\n",
    "APs are identified using the a first derivative threshold"
   ]
  },
  {
   "cell_type": "code",
   "execution_count": null,
   "metadata": {},
   "outputs": [],
   "source": [
    "apThreshold = 5 # mv/ms\n",
    "apIndexes = getApIndexes(trace, abf.dataRate, apThreshold)\n",
    "print(f\"Sweep has {len(apIndexes)} APs\")"
   ]
  },
  {
   "cell_type": "markdown",
   "metadata": {},
   "source": [
    "AP detection can be demonstrated visually:"
   ]
  },
  {
   "cell_type": "code",
   "execution_count": null,
   "metadata": {
    "tags": []
   },
   "outputs": [],
   "source": [
    "dVdt = np.diff(trace) * abf.dataRate / 1000 # mV/ms\n",
    "    \n",
    "plt.figure(figsize=(12, 4))\n",
    "plt.plot(dVdt, lw=.5)\n",
    "plt.ylabel(\"Voltage Derivative (mV/ms)\")\n",
    "plt.axhline(apThreshold, color='r', ls='--')\n",
    "for apIndex in apIndexes:\n",
    "    plt.axvline(apIndex, alpha=.2, color='r')\n",
    "plt.show()\n",
    "\n",
    "plt.figure(figsize=(12, 4))\n",
    "plt.plot(trace, lw=.5)\n",
    "plt.ylabel(\"Potential (mV)\")\n",
    "for apIndex in apIndexes:\n",
    "    plt.axvline(apIndex, alpha=.2, color='r')\n",
    "plt.show()"
   ]
  },
  {
   "cell_type": "markdown",
   "metadata": {},
   "source": [
    "# Measure Inactivation Time\n",
    "\n",
    "Inactivation time is the period between the last action potential and the end of the trace.\n",
    "\n",
    "Inactivation times less than 100ms are ignored."
   ]
  },
  {
   "cell_type": "code",
   "execution_count": null,
   "metadata": {
    "tags": []
   },
   "outputs": [],
   "source": [
    "minimumInactivationTime = 0.1 # seconds\n",
    "\n",
    "lastApIndex = apIndexes[-1]\n",
    "lastApTime = lastApIndex / abf.dataRate\n",
    "traceEndTime = len(trace) / abf.dataRate\n",
    "inactivationTime = traceEndTime - lastApTime\n",
    "if (inactivationTime < minimumInactivationTime):\n",
    "    inactivationTime = 0\n",
    "    \n",
    "print(f\"inactivation time: {inactivationTime} sec\")\n",
    "\n",
    "plotTrace(abf, trace, showFigure = False)\n",
    "plt.axvspan(lastApTime, traceEndTime, alpha=.1, color='r')\n",
    "plt.show()"
   ]
  },
  {
   "cell_type": "markdown",
   "metadata": {},
   "source": [
    "## Iterate for Every Sweep"
   ]
  },
  {
   "cell_type": "code",
   "execution_count": null,
   "metadata": {
    "tags": []
   },
   "outputs": [],
   "source": [
    "apThreshold = 5 # mv/ms\n",
    "\n",
    "# difficult ABF with slow APs in the middle of silence\n",
    "#abf = pyabf.ABF(\"X:/Data/Sigma1-Cre/ephys/C57/2021_03_22_DIC1_0054.abf\")\n",
    "\n",
    "inactivationTimes = [0] * abf.sweepCount\n",
    "for sweepIndex in range(abf.sweepCount):  \n",
    "    trace = getStepTrace(abf, sweepIndex)\n",
    "    apIndexes = getApIndexes(trace, abf.dataRate, apThreshold)\n",
    "    \n",
    "    if len(apIndexes) == 0:\n",
    "        plotTrace(abf, trace, showFigure = False)\n",
    "        plt.axis([None, None, -100, 50])\n",
    "        plt.show()\n",
    "        continue\n",
    "\n",
    "    lastApIndex = apIndexes[-1]\n",
    "    lastApTime = lastApIndex / abf.dataRate\n",
    "    traceEndTime = len(trace) / abf.dataRate\n",
    "    inactivationTime = traceEndTime - lastApTime\n",
    "    \n",
    "    if inactivationTime >= minimumInactivationTime: \n",
    "        inactivationTimes[sweepIndex] = inactivationTime\n",
    "        plotTrace(abf, trace, showFigure = False)\n",
    "        plt.axvspan(lastApTime, traceEndTime, alpha=.1, color='r')\n",
    "    else:\n",
    "        plotTrace(abf, trace, showFigure = False)\n",
    "        \n",
    "    plt.axis([None, None, -100, 50])\n",
    "    plt.show()"
   ]
  },
  {
   "cell_type": "code",
   "execution_count": null,
   "metadata": {
    "tags": []
   },
   "outputs": [],
   "source": [
    "currents = np.arange(abf.sweepCount) * 20 - 100\n",
    "plt.plot(currents, inactivationTimes, '.-', ms=10)\n",
    "plt.ylabel(\"Inactivation Time (sec)\")\n",
    "plt.xlabel(\"Applied Current (pA)\")\n",
    "plt.title(abf.abfID)\n",
    "plt.grid(alpha=.4, ls='--')\n",
    "plt.show()"
   ]
  },
  {
   "cell_type": "markdown",
   "metadata": {},
   "source": [
    "## Analyze Groups\n",
    "\n",
    "The user should define the ABFs per group here"
   ]
  },
  {
   "cell_type": "code",
   "execution_count": null,
   "metadata": {},
   "outputs": [],
   "source": [
    "controlAbfPaths = [\n",
    "    # no dissecting solution, 9 mM k-glu\n",
    "    \"X:/Data/Sigma1-Cre/ephys/C57/2021_03_16_DIC1_0003.abf\",\n",
    "    \"X:/Data/Sigma1-Cre/ephys/C57/2021_03_16_DIC1_0007.abf\",\n",
    "    \"X:/Data/Sigma1-Cre/ephys/C57/2021_03_16_DIC1_0011.abf\",\n",
    "    \"X:/Data/Sigma1-Cre/ephys/C57/2021_03_16_DIC1_0016.abf\",\n",
    "    \"X:/Data/Sigma1-Cre/ephys/C57/2021_03_16_DIC1_0020.abf\",\n",
    "    \"X:/Data/Sigma1-Cre/ephys/C57/2021_03_16_DIC1_0025.abf\",\n",
    "    \"X:/Data/Sigma1-Cre/ephys/C57/2021_03_16_DIC1_0034.abf\",\n",
    "    \"X:/Data/Sigma1-Cre/ephys/C57/2021_03_16_DIC1_0039.abf\",\n",
    "    \"X:/Data/Sigma1-Cre/ephys/C57/2021_03_16_DIC1_0044.abf\",\n",
    "    \"X:/Data/Sigma1-Cre/ephys/C57/2021_03_22_DIC1_0038.abf\",\n",
    "    \"X:/Data/Sigma1-Cre/ephys/C57/2021_03_22_DIC1_0042.abf\",\n",
    "    \"X:/Data/Sigma1-Cre/ephys/C57/2021_03_22_DIC1_0049.abf\",\n",
    "]\n",
    "\n",
    "drugAbfPaths = [\n",
    "    # dissecting solution, 2 mM k-glu\n",
    "    #\"X:/Data/Sigma1-Cre/ephys/C57/2021_03_11_DIC3_0043.abf\",\n",
    "    #\"X:/Data/Sigma1-Cre/ephys/C57/2021_03_11_DIC3_0047.abf\",\n",
    "    #\"X:/Data/Sigma1-Cre/ephys/C57/2021_03_11_DIC3_0055.abf\",\n",
    "    #\"X:/Data/Sigma1-Cre/ephys/C57/2021_03_11_DIC3_0059.abf\",\n",
    "    #\"X:/Data/Sigma1-Cre/ephys/C57/2021_03_11_DIC3_0063.abf\",\n",
    "    \n",
    "    # no dissecting solution, 9 mM k-glu\n",
    "    \"X:/Data/Sigma1-Cre/ephys/C57/2021_03_22_DIC1_0004.abf\",\n",
    "    \"X:/Data/Sigma1-Cre/ephys/C57/2021_03_22_DIC1_0008.abf\",\n",
    "    \"X:/Data/Sigma1-Cre/ephys/C57/2021_03_22_DIC1_0017.abf\",\n",
    "    \"X:/Data/Sigma1-Cre/ephys/C57/2021_03_22_DIC1_0021.abf\",\n",
    "    \"X:/Data/Sigma1-Cre/ephys/C57/2021_03_22_DIC1_0025.abf\",\n",
    "    \"X:/Data/Sigma1-Cre/ephys/C57/2021_03_22_DIC1_0029.abf\",\n",
    "    \"X:/Data/Sigma1-Cre/ephys/C57/2021_03_22_DIC1_0054.abf\",\n",
    "    \"X:/Data/Sigma1-Cre/ephys/C57/2021_03_22_DIC1_0059.abf\",\n",
    "    \"X:/Data/Sigma1-Cre/ephys/C57/2021_03_22_DIC1_0063.abf\",\n",
    "    \"X:/Data/Sigma1-Cre/ephys/C57/2021_03_22_DIC1_0067.abf\",\n",
    "    \"X:/Data/Sigma1-Cre/ephys/C57/2021_03_22_DIC1_0071.abf\",\n",
    "    \"X:/Data/Sigma1-Cre/ephys/C57/2021_03_22_DIC1_0076.abf\",\n",
    "]"
   ]
  },
  {
   "cell_type": "markdown",
   "metadata": {},
   "source": [
    "Now analyze the inactivation curve for each group"
   ]
  },
  {
   "cell_type": "code",
   "execution_count": null,
   "metadata": {
    "tags": []
   },
   "outputs": [],
   "source": [
    "def getInactivationTimes(abfFilePath, apThreshold = 5, minimumInactivationTime = 0.1):\n",
    "    \"\"\"\n",
    "    Return the inactivation curve for an ABF.\n",
    "    The returned list is the number of seconds of inactivation by sweep.\n",
    "    AP threshold is mV/ms units\n",
    "    minimum activation time is in seconds\n",
    "    \"\"\"\n",
    "        \n",
    "    abf = pyabf.ABF(abfFilePath)\n",
    "    print(f\"analyzing {abf.abfID}...\")\n",
    "    \n",
    "    inactivationTimes = [0] * abf.sweepCount\n",
    "    apCountBySweep = [0] * abf.sweepCount\n",
    "        \n",
    "    for sweepIndex in range(abf.sweepCount):  \n",
    "        trace = getStepTrace(abf, sweepIndex)\n",
    "        apIndexes = getApIndexes(trace, abf.dataRate, apThreshold)\n",
    "        apCountBySweep[sweepIndex] = len(apIndexes)\n",
    "\n",
    "        if len(apIndexes) == 0:\n",
    "            hasFiredInPreviousSweeps = max(apCountBySweep) > 0\n",
    "            if hasFiredInPreviousSweeps:\n",
    "                break # total AP block so abort analysis\n",
    "            continue\n",
    "        \n",
    "        lastApIndex = apIndexes[-1]\n",
    "        lastApTime = lastApIndex / abf.dataRate\n",
    "        traceEndTime = len(trace) / abf.dataRate\n",
    "        inactivationTime = traceEndTime - lastApTime\n",
    "        if (inactivationTime >= minimumInactivationTime):\n",
    "            inactivationTimes[sweepIndex] = inactivationTime\n",
    "    \n",
    "    return inactivationTimes\n",
    "\n",
    "def removeTrailingZeros(silenceBySweep):\n",
    "    while silenceBySweep[-1] == 0:\n",
    "        silenceBySweep.pop()\n",
    "    return silenceBySweep\n",
    "\n",
    "def padWith(curve, padValue, targetPointCount):\n",
    "    while(len(curve) < targetPointCount):\n",
    "        curve.append(totalBlockTime)\n",
    "    return curve"
   ]
  },
  {
   "cell_type": "code",
   "execution_count": null,
   "metadata": {
    "tags": []
   },
   "outputs": [],
   "source": [
    "targetPointCount = 70\n",
    "totalBlockTime = 4\n",
    "\n",
    "controlCurves = []\n",
    "for abfPath in controlAbfPaths:\n",
    "    curve = getInactivationTimes(abfPath, 10)\n",
    "    curve = removeTrailingZeros(curve)\n",
    "    curve = padWith(curve, totalBlockTime, targetPointCount)\n",
    "    controlCurves.append(curve)\n",
    "    \n",
    "drugCurves = []\n",
    "for abfPath in drugAbfPaths:\n",
    "    curve = getInactivationTimes(abfPath, 10)\n",
    "    curve = removeTrailingZeros(curve)\n",
    "    curve = padWith(curve, totalBlockTime, targetPointCount)\n",
    "    drugCurves.append(curve)\n",
    "    \n",
    "print(\"DONE\")"
   ]
  },
  {
   "cell_type": "markdown",
   "metadata": {},
   "source": [
    "Now display the results"
   ]
  },
  {
   "cell_type": "code",
   "execution_count": null,
   "metadata": {},
   "outputs": [],
   "source": [
    "import os\n",
    "import pandas as pd\n",
    "from IPython.display import display, HTML\n",
    "\n",
    "def displayCurves(curves, title):\n",
    "\n",
    "    df = pd.DataFrame(curves) / 4 * 100 # convert to percent\n",
    "    df.index = [os.path.basename(x) for x in controlAbfPaths]\n",
    "    df.columns = np.arange(df.shape[1]) * 20 - 100\n",
    "\n",
    "    display(HTML(f\"<h1>{title}</h1>\"))\n",
    "    display(HTML(df.to_html()))\n",
    "    \n",
    "    plt.errorbar(df.columns, df.mean(), df.sem(), marker='.', ms=10, capsize=2, label=f\"{title} (n={len(controlCurves)})\")\n",
    "    \n",
    "plt.figure(figsize=(8, 6))\n",
    "displayCurves(drugCurves, f\"AP Inactivation: SA4503 Group (n={len(drugCurves)})\")\n",
    "displayCurves(controlCurves, f\"AP Inactivation: Control Group (n={len(controlCurves)})\")\n",
    "\n",
    "plt.legend()\n",
    "plt.ylabel(\"Inactivation (%)\")\n",
    "plt.xlabel(\"Applied Current (pA)\")\n",
    "plt.show()"
   ]
  },
  {
   "cell_type": "code",
   "execution_count": null,
   "metadata": {},
   "outputs": [],
   "source": []
  }
 ],
 "metadata": {
  "kernelspec": {
   "display_name": "Python 3",
   "language": "python",
   "name": "python3"
  },
  "language_info": {
   "codemirror_mode": {
    "name": "ipython",
    "version": 3
   },
   "file_extension": ".py",
   "mimetype": "text/x-python",
   "name": "python",
   "nbconvert_exporter": "python",
   "pygments_lexer": "ipython3",
   "version": "3.8.5"
  }
 },
 "nbformat": 4,
 "nbformat_minor": 4
}
