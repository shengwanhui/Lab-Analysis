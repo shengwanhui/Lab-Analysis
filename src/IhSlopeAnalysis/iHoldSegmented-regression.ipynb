{
 "cells": [
  {
   "cell_type": "markdown",
   "metadata": {},
   "source": [
    "### Load ABF Files"
   ]
  },
  {
   "cell_type": "code",
   "execution_count": null,
   "metadata": {},
   "outputs": [],
   "source": [
    "import pyabf\n",
    "import slopeTools\n",
    "import abfTools\n",
    "import plotTools\n",
    "import statsTools\n",
    "import numpy as np\n",
    "\n",
    "abfFilePaths = [\n",
    "    R\"X:/Data/C57/TGOT on PVT/2020-07-28 10nM TGOT on PVT/20804007.abf\",\n",
    "    R\"X:/Data/C57/TGOT on PVT/2020-07-28 10nM TGOT on PVT/20804024.abf\", \n",
    "    R\"X:/Data/C57/TGOT on PVT/2020-07-28 10nM TGOT on PVT/20804030.abf\", \n",
    "    R\"X:/Data/C57/TGOT on PVT/2020-07-28 10nM TGOT on PVT/20804043.abf\",\n",
    "    R\"X:/Data/C57/TGOT on PVT/2020-07-28 10nM TGOT on PVT/20804048.abf\",\n",
    "    R\"X:/Data/C57/TGOT on PVT/2020-07-28 10nM TGOT on PVT/20804060.abf\", \n",
    "    R\"X:/Data/C57/TGOT on PVT/2020-07-28 10nM TGOT on PVT/20804066.abf\",\n",
    "    R\"X:/Data/C57/TGOT on PVT/2020-07-28 10nM TGOT on PVT/20805008.abf\",\n",
    "    R\"X:/Data/C57/TGOT on PVT/2020-07-28 10nM TGOT on PVT/20805029.abf\",\n",
    "    R\"X:/Data/C57/TGOT on PVT/2020-07-28 10nM TGOT on PVT/20805035.abf\",\n",
    "    R\"X:/Data/C57/TGOT on PVT/2020-07-28 10nM TGOT on PVT/20811011.abf\",\n",
    "    R\"X:/Data/C57/TGOT on PVT/2020-07-28 10nM TGOT on PVT/20811021.abf\",\n",
    "    R\"X:/Data/C57/TGOT on PVT/2020-07-28 10nM TGOT on PVT/20817012.abf\",\n",
    "    R\"X:/Data/C57/TGOT on PVT/2020-07-28 10nM TGOT on PVT/20831011.abf\",\n",
    "    R\"X:/Data/C57/TGOT on PVT/2020-07-28 10nM TGOT on PVT/20831017.abf\"\n",
    "]\n"
   ]
  },
  {
   "cell_type": "markdown",
   "metadata": {},
   "source": [
    "### Get Holding Current and Break Data into Segments"
   ]
  },
  {
   "cell_type": "code",
   "execution_count": null,
   "metadata": {
    "scrolled": false
   },
   "outputs": [],
   "source": [
    "sweepPeriod = 10/60\n",
    "windowSize = 12\n",
    "\n",
    "for abfFilePath in abfFilePaths:\n",
    "    currentsRaw, timesRaw, abfID = abfTools.meanIhold(abfFilePath)\n",
    "    currentsSegs = statsTools.getMovingWindowSegments(currentsRaw, windowSize)\n",
    "    slopes = slopeTools.getAllSegmentSlopes(currentsSegs, sweepPeriod)\n",
    "\n",
    "    # find the minimal slope\n",
    "    slopeMin = min(slopes)\n",
    "    indexSlopeMin = slopes.index(slopeMin)\n",
    "\n",
    "    # find the time point when the minimal slope happens\n",
    "    tagTime = abfTools.getFirstTagTime(abfFilePath)\n",
    "    slopeTimeOffset = windowSize * sweepPeriod / 2-(tagTime-5)\n",
    "    timesSegs = np.arange(len(slopes))*sweepPeriod + slopeTimeOffset\n",
    "    peakSlopeTime = timesSegs[indexSlopeMin]\n",
    "    #print(f\"the maximal negative slope is {slopeMin} at {peakSlopeTime} min (index {indexSlopeMin})\")\n",
    "\n",
    "    # plot current & slope vs time\n",
    "    plotTools.currentSlopeTimePlot(currentsRaw, timesRaw,slopes,timesSegs,peakSlopeTime, slopeMin, windowSize, sweepPeriod)\n",
    "        "
   ]
  },
  {
   "cell_type": "markdown",
   "metadata": {},
   "source": [
    "To-do:\n",
    "1. limit a range of time for peak slope searching\n",
    "2. only show data from x=0\n",
    "3. report the averaged slope during baseline of each cell\n",
    "4. saperate cells into responders and non-responders:\n",
    "    1). peak slope < 0\n",
    "    2). baseline slope - peak slope > 8?\n",
    "5. count responders and non-responders, and report a pie plot\n",
    "6. save slope data as xls to easily import into origin (Pandas and/or numpy make this pretty easy)\n",
    "7. Figures should probably have a title indicating the name of the ABF\n",
    "8. The slope trace in bottom panel may benefit from being a different color (red?)\n",
    "9. Maybe you could highlight the drug times using another axvspan() of a different color\n",
    "10. save a representative figure as PNG file and update the readme.md to describe what the code does.\n",
    "11. Extending this, maybe /src/readme.md should describe what each ipynb file is for"
   ]
  },
  {
   "cell_type": "code",
   "execution_count": null,
   "metadata": {},
   "outputs": [],
   "source": []
  }
 ],
 "metadata": {
  "kernelspec": {
   "display_name": "Python 3",
   "language": "python",
   "name": "python3"
  },
  "language_info": {
   "codemirror_mode": {
    "name": "ipython",
    "version": 3
   },
   "file_extension": ".py",
   "mimetype": "text/x-python",
   "name": "python",
   "nbconvert_exporter": "python",
   "pygments_lexer": "ipython3",
   "version": "3.8.5"
  }
 },
 "nbformat": 4,
 "nbformat_minor": 4
}
