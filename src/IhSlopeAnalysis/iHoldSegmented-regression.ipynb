{
 "cells": [
  {
   "cell_type": "markdown",
   "metadata": {},
   "source": [
    "### Load ABF Files"
   ]
  },
  {
   "cell_type": "code",
   "execution_count": null,
   "metadata": {},
   "outputs": [],
   "source": [
    "import pyabf\n",
    "import slopeTools\n",
    "import abfTools\n",
    "import plotTools\n",
    "import statsTools\n",
    "import numpy as np\n",
    "\n",
    "abfFilePaths = [\n",
    "    R\"X:/Data/C57/TGOT on PVT/2020-07-28 10nM TGOT on PVT/20804007.abf\",\n",
    "    R\"X:/Data/C57/TGOT on PVT/2020-07-28 10nM TGOT on PVT/20804024.abf\", \n",
    "    R\"X:/Data/C57/TGOT on PVT/2020-07-28 10nM TGOT on PVT/20804030.abf\", \n",
    "    R\"X:/Data/C57/TGOT on PVT/2020-07-28 10nM TGOT on PVT/20804043.abf\",\n",
    "    R\"X:/Data/C57/TGOT on PVT/2020-07-28 10nM TGOT on PVT/20804048.abf\",\n",
    "    R\"X:/Data/C57/TGOT on PVT/2020-07-28 10nM TGOT on PVT/20804060.abf\", \n",
    "    R\"X:/Data/C57/TGOT on PVT/2020-07-28 10nM TGOT on PVT/20804066.abf\",\n",
    "    R\"X:/Data/C57/TGOT on PVT/2020-07-28 10nM TGOT on PVT/20805008.abf\",\n",
    "    R\"X:/Data/C57/TGOT on PVT/2020-07-28 10nM TGOT on PVT/20805029.abf\",\n",
    "    R\"X:/Data/C57/TGOT on PVT/2020-07-28 10nM TGOT on PVT/20805035.abf\",\n",
    "    R\"X:/Data/C57/TGOT on PVT/2020-07-28 10nM TGOT on PVT/20811011.abf\",\n",
    "    R\"X:/Data/C57/TGOT on PVT/2020-07-28 10nM TGOT on PVT/20811021.abf\",\n",
    "    R\"X:/Data/C57/TGOT on PVT/2020-07-28 10nM TGOT on PVT/20817012.abf\",\n",
    "    R\"X:/Data/C57/TGOT on PVT/2020-07-28 10nM TGOT on PVT/20831011.abf\",\n",
    "    R\"X:/Data/C57/TGOT on PVT/2020-07-28 10nM TGOT on PVT/20831017.abf\"\n",
    "]\n"
   ]
  },
  {
   "cell_type": "markdown",
   "metadata": {},
   "source": [
    "### Get Holding Current and Break Data into Segments"
   ]
  },
  {
   "cell_type": "code",
   "execution_count": null,
   "metadata": {
    "scrolled": false
   },
   "outputs": [],
   "source": [
    "sweepPeriod = 10/60\n",
    "windowSize = 8\n",
    "slopesBaseline =[]\n",
    "slopesDrug =[]\n",
    "abfIDs = []\n",
    "\n",
    "for abfFilePath in abfFilePaths:\n",
    "    # get the tag-aligned raw data of holding current and time\n",
    "    currentsRaw, timesRaw, abfID = abfTools.meanIhold(abfFilePath)\n",
    "    abfIDs.append(abfID)\n",
    "    \n",
    "    # get slopes of each segments\n",
    "    currentsSegs = statsTools.getMovingWindowSegments(currentsRaw, windowSize)\n",
    "    slopes = slopeTools.getAllSegmentSlopes(currentsSegs, sweepPeriod)\n",
    "    tagTime = abfTools.getFirstTagTime(abfFilePath)\n",
    "    slopeTimeOffset = windowSize * sweepPeriod / 2-(tagTime-5)\n",
    "    timesSegs = np.arange(len(slopes))*sweepPeriod + slopeTimeOffset\n",
    "\n",
    "    # rave function\n",
    "    slopeBaseline = statsTools.rangeStats(slopes,3,5,\"mean\",tagTime) # the mean slope between 3-5min was used as the baseline slope\n",
    "    slopeDrug = statsTools.rangeStats(slopes,5,10,\"min\", tagTime) # the minimal slope between 5-10min was used as the drug slope\n",
    "    slopesBaseline.append(slopeBaseline)\n",
    "    slopesDrug.append(slopeDrug)\n",
    "\n",
    "    # find the time point when the minimal slope happens\n",
    "    indexslopeDrug = slopes.index(slopeDrug)\n",
    "    peakSlopeTime = timesSegs[indexslopeDrug]\n",
    "    #print(f\"the maximal negative slope is {slopeDrug} at {peakSlopeTime} min (index {indexslopeDrug})\")\n",
    "\n",
    "    # plot current & slope vs time\n",
    "    plotTools.currentSlopeTimePlot(currentsRaw, timesRaw,slopes,timesSegs,peakSlopeTime, slopeDrug, windowSize, sweepPeriod, abfFilePath)\n",
    "\n",
    "\n"
   ]
  },
  {
   "cell_type": "markdown",
   "metadata": {},
   "source": [
    "### Plot slopes before and during drug application"
   ]
  },
  {
   "cell_type": "code",
   "execution_count": null,
   "metadata": {},
   "outputs": [],
   "source": [
    "plotTools.plotPairs(slopesBaseline, slopesDrug)\n"
   ]
  },
  {
   "cell_type": "markdown",
   "metadata": {},
   "source": [
    "### Report responders and non-responders based on the change of slope"
   ]
  },
  {
   "cell_type": "code",
   "execution_count": null,
   "metadata": {},
   "outputs": [],
   "source": [
    "responders=[]\n",
    "nonResponders=[]\n",
    "for i in range(len(abfIDs)):\n",
    "    deltaSlope = round(slopesDrug[i]-slopesBaseline[i],3)   # pA / min\n",
    "    if deltaSlope> responderThreshold:\n",
    "        nonResponders.append(abfIDs[i])\n",
    "    else:\n",
    "        responders.append(abfIDs[i])\n",
    "responseRate = round(len(responders)/len(abfIDs)*100, 3)\n",
    "print(f\"Responders are: {responders}\")\n",
    "print(f\"Non-responders are: {nonResponders}\")\n",
    "print(f\"Response rate = {responseRate}%.\")"
   ]
  },
  {
   "cell_type": "code",
   "execution_count": null,
   "metadata": {},
   "outputs": [],
   "source": []
  },
  {
   "cell_type": "code",
   "execution_count": null,
   "metadata": {},
   "outputs": [],
   "source": []
  }
 ],
 "metadata": {
  "kernelspec": {
   "display_name": "Python 3",
   "language": "python",
   "name": "python3"
  },
  "language_info": {
   "codemirror_mode": {
    "name": "ipython",
    "version": 3
   },
   "file_extension": ".py",
   "mimetype": "text/x-python",
   "name": "python",
   "nbconvert_exporter": "python",
   "pygments_lexer": "ipython3",
   "version": "3.8.5"
  }
 },
 "nbformat": 4,
 "nbformat_minor": 4
}
