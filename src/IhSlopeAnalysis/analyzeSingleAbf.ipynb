{
 "cells": [
  {
   "cell_type": "code",
   "execution_count": null,
   "metadata": {},
   "outputs": [],
   "source": [
    "\"\"\"\n",
    "This file loads a single ABF file and plots holding current slope before/during drug exposure\n",
    "\"\"\"\n",
    "import pyabf\n",
    "import slopeTools\n",
    "import abfTools\n",
    "import plotTools\n",
    "import statsTools\n",
    "\n",
    "if __name__ == \"__main__\":\n",
    "\n",
    "    abfFilePaths = [R\"X:/Data/C57/TGOT on PVT/2020-07-28 10nM TGOT on PVT/20804007.abf\", R\"X:/Data/C57/TGOT on PVT/2020-07-28 10nM TGOT on PVT/20804024.abf\", R\"X:/Data/C57/TGOT on PVT/2020-07-28 10nM TGOT on PVT/20804030.abf\", R\"X:/Data/C57/TGOT on PVT/2020-07-28 10nM TGOT on PVT/20804043.abf\", R\"X:/Data/C57/TGOT on PVT/2020-07-28 10nM TGOT on PVT/20804048.abf\", R\"X:/Data/C57/TGOT on PVT/2020-07-28 10nM TGOT on PVT/20804060.abf\", R\"X:/Data/C57/TGOT on PVT/2020-07-28 10nM TGOT on PVT/20804066.abf\", R\"X:/Data/C57/TGOT on PVT/2020-07-28 10nM TGOT on PVT/20805008.abf\",R\"X:/Data/C57/TGOT on PVT/2020-07-28 10nM TGOT on PVT/20805029.abf\",R\"X:/Data/C57/TGOT on PVT/2020-07-28 10nM TGOT on PVT/20805035.abf\",R\"X:/Data/C57/TGOT on PVT/2020-07-28 10nM TGOT on PVT/20811011.abf\",R\"X:/Data/C57/TGOT on PVT/2020-07-28 10nM TGOT on PVT/20811021.abf\",R\"X:/Data/C57/TGOT on PVT/2020-07-28 10nM TGOT on PVT/20817012.abf\",R\"X:/Data/C57/TGOT on PVT/2020-07-28 10nM TGOT on PVT/20831011.abf\",R\"X:/Data/C57/TGOT on PVT/2020-07-28 10nM TGOT on PVT/20831017.abf\"]\n",
    "    slopeBaseline=[]\n",
    "    slopeDrug=[]\n",
    "    for abfFilePath in abfFilePaths:\n",
    "        abf = pyabf.ABF(abfFilePath)\n",
    "        drugStartTime = abfTools.getFirstTagTime(abfFilePath)\n",
    "        slope1, slope2 = slopeTools.plotExperiment(abfFilePath, drugStartTime, measurementTime=3, drugMeasurementDelay=1)\n",
    "        slopeBaseline.append(float(slope1))\n",
    "        slopeDrug.append(float(slope2))\n",
    "\n",
    "    statsTools.pairedTTest(slopeBaseline, slopeDrug)\n",
    "    plotTools.plotPairs(slopeBaseline, slopeDrug)\n",
    "\n"
   ]
  },
  {
   "cell_type": "code",
   "execution_count": null,
   "metadata": {},
   "outputs": [],
   "source": []
  }
 ],
 "metadata": {
  "kernelspec": {
   "display_name": "Python 3",
   "language": "python",
   "name": "python3"
  },
  "language_info": {
   "codemirror_mode": {
    "name": "ipython",
    "version": 3
   },
   "file_extension": ".py",
   "mimetype": "text/x-python",
   "name": "python",
   "nbconvert_exporter": "python",
   "pygments_lexer": "ipython3",
   "version": "3.8.5"
  }
 },
 "nbformat": 4,
 "nbformat_minor": 4
}
