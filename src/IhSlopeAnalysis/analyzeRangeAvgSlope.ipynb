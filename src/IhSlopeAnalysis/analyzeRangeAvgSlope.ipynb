{
 "cells": [
  {
   "cell_type": "code",
   "execution_count": null,
   "metadata": {},
   "outputs": [],
   "source": [
    "import pyabf\n",
    "import slopeTools\n",
    "import abfTools\n",
    "import plotTools\n",
    "import statsTools\n",
    "import numpy as np\n",
    "\n",
    "abfFilePaths = [\n",
    "    R\"X:/Data/C57/TGOT on PVT/2020-07-28 10nM TGOT on PVT/20804007.abf\",\n",
    "    R\"X:/Data/C57/TGOT on PVT/2020-07-28 10nM TGOT on PVT/20804024.abf\", \n",
    "    R\"X:/Data/C57/TGOT on PVT/2020-07-28 10nM TGOT on PVT/20804030.abf\", \n",
    "    R\"X:/Data/C57/TGOT on PVT/2020-07-28 10nM TGOT on PVT/20804043.abf\",\n",
    "    R\"X:/Data/C57/TGOT on PVT/2020-07-28 10nM TGOT on PVT/20804048.abf\",\n",
    "    R\"X:/Data/C57/TGOT on PVT/2020-07-28 10nM TGOT on PVT/20804060.abf\",\n",
    "    R\"X:/Data/C57/TGOT on PVT/2020-07-28 10nM TGOT on PVT/20804066.abf\",\n",
    "    R\"X:/Data/C57/TGOT on PVT/2020-07-28 10nM TGOT on PVT/20805008.abf\",\n",
    "    R\"X:/Data/C57/TGOT on PVT/2020-07-28 10nM TGOT on PVT/20805029.abf\",\n",
    "    R\"X:/Data/C57/TGOT on PVT/2020-07-28 10nM TGOT on PVT/20805035.abf\",\n",
    "    R\"X:/Data/C57/TGOT on PVT/2020-07-28 10nM TGOT on PVT/20811011.abf\",\n",
    "    R\"X:/Data/C57/TGOT on PVT/2020-07-28 10nM TGOT on PVT/20811021.abf\",\n",
    "    R\"X:/Data/C57/TGOT on PVT/2020-07-28 10nM TGOT on PVT/20817012.abf\",\n",
    "    R\"X:/Data/C57/TGOT on PVT/2020-07-28 10nM TGOT on PVT/20831011.abf\",\n",
    "    R\"X:/Data/C57/TGOT on PVT/2020-07-28 10nM TGOT on PVT/20831017.abf\"\n",
    "]"
   ]
  },
  {
   "cell_type": "code",
   "execution_count": null,
   "metadata": {
    "scrolled": false
   },
   "outputs": [],
   "source": [
    "windowSize = 10 #sweeps\n",
    "sweepLength = 10/60 #min\n",
    "\n",
    "for abfFilePath in abfFilePaths:\n",
    "    currentsRaw, timesRaw, abfID = abfTools.meanIhold(abfFilePath)\n",
    "    tagTime = abfTools.getFirstTagTime(abfFilePath)\n",
    "    currentMeans = []\n",
    "    timeSegs = []\n",
    "    \n",
    "    # get smoothed holding current by averaging every n=windowSize sweeps\n",
    "    for i in range(len(currentsRaw)-1):\n",
    "\n",
    "        start = i\n",
    "        #print(f\"{start}, {timesRaw[i]}\")\n",
    "        end = i+windowSize\n",
    "        if end > len(timesRaw)-1: \n",
    "            break\n",
    "        else:\n",
    "            currentMean = np.mean(currentsRaw[start:end])\n",
    "            currentMeans.append(currentMean)\n",
    "            timeSegs.append(np.mean(timesRaw[start:end]))\n",
    "\n",
    "    #get slopes:\n",
    "    slopes = []\n",
    "    for i in range(len(currentMeans)-1):\n",
    "        slope = (currentMeans[i+1]-currentMeans[i])/(sweepLength)\n",
    "        slopes.append(slope)\n",
    "\n",
    "    peakSlope = statsTools.rangeStats(slopes,5,10,\"min\", sweepLength, tagTime)\n",
    "    indexpeakSlope = slopes.index(peakSlope)\n",
    "    peakSlopeTime = timeSegs[indexpeakSlope]\n",
    "\n",
    "    #plot\n",
    "    #timeSegs.remove(timeSegs[len(timeSegs)])\n",
    "    del timeSegs[len(timeSegs)-1]\n",
    "    plotTools.currentSlopeTimePlot(currentsRaw, timesRaw, slopes,timeSegs,peakSlopeTime, \n",
    "                         peakSlope, windowSize, sweepLength, abfFilePath)\n",
    "    \n",
    "        "
   ]
  },
  {
   "cell_type": "code",
   "execution_count": null,
   "metadata": {},
   "outputs": [],
   "source": []
  }
 ],
 "metadata": {
  "kernelspec": {
   "display_name": "Python 3",
   "language": "python",
   "name": "python3"
  },
  "language_info": {
   "codemirror_mode": {
    "name": "ipython",
    "version": 3
   },
   "file_extension": ".py",
   "mimetype": "text/x-python",
   "name": "python",
   "nbconvert_exporter": "python",
   "pygments_lexer": "ipython3",
   "version": "3.8.5"
  }
 },
 "nbformat": 4,
 "nbformat_minor": 4
}
